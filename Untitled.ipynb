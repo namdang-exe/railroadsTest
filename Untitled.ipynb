{
 "cells": [
  {
   "cell_type": "code",
   "execution_count": 1,
   "id": "d984a392",
   "metadata": {},
   "outputs": [],
   "source": [
    "import ogr\n",
    "import os\n",
    "from os import path"
   ]
  },
  {
   "cell_type": "code",
   "execution_count": 2,
   "id": "b98aaa7b",
   "metadata": {},
   "outputs": [],
   "source": [
    "# Input and output paths\n",
    "working_dir = os.getcwd()\n",
    "######### Change your geodatabase directory here #########\n",
    "geodb = r\"gdbs\\Railroads.gdb\"\n",
    "fc_name = \"Rail_Inventory_Data_Collection\"\n",
    "fc_layer = \"Rail_Inventory_Data_Collection__ATTACH\""
   ]
  },
  {
   "cell_type": "code",
   "execution_count": 3,
   "id": "255171c3",
   "metadata": {},
   "outputs": [
    {
     "data": {
      "text/plain": [
       "'OpenFileGDB'"
      ]
     },
     "execution_count": 3,
     "metadata": {},
     "output_type": "execute_result"
    }
   ],
   "source": [
    "src = ogr.Open(geodb)\n",
    "src.GetDriver().name"
   ]
  },
  {
   "cell_type": "code",
   "execution_count": 4,
   "id": "bebb8402",
   "metadata": {},
   "outputs": [],
   "source": [
    "layer = src.GetLayerByName(fc_layer)"
   ]
  },
  {
   "cell_type": "code",
   "execution_count": 5,
   "id": "eac1a6d6",
   "metadata": {},
   "outputs": [
    {
     "data": {
      "text/plain": [
       "<osgeo.ogr.Layer; proxy of <Swig Object of type 'OGRLayerShadow *' at 0x000001A8DACADD50> >"
      ]
     },
     "execution_count": 5,
     "metadata": {},
     "output_type": "execute_result"
    }
   ],
   "source": [
    "layer"
   ]
  },
  {
   "cell_type": "code",
   "execution_count": 12,
   "id": "80a22bf1",
   "metadata": {},
   "outputs": [],
   "source": [
    "feature = layer.GetFeature(2)"
   ]
  },
  {
   "cell_type": "code",
   "execution_count": 13,
   "id": "a95d6b2e",
   "metadata": {},
   "outputs": [],
   "source": [
    "feature"
   ]
  },
  {
   "cell_type": "code",
   "execution_count": 8,
   "id": "bfa0611e",
   "metadata": {},
   "outputs": [
    {
     "ename": "AttributeError",
     "evalue": "'NoneType' object has no attribute 'GetField'",
     "output_type": "error",
     "traceback": [
      "\u001b[1;31m---------------------------------------------------------------------------\u001b[0m",
      "\u001b[1;31mAttributeError\u001b[0m                            Traceback (most recent call last)",
      "\u001b[1;32m<ipython-input-8-19dedfef2a14>\u001b[0m in \u001b[0;36m<module>\u001b[1;34m\u001b[0m\n\u001b[1;32m----> 1\u001b[1;33m \u001b[0mdata\u001b[0m \u001b[1;33m=\u001b[0m \u001b[0mfeature\u001b[0m\u001b[1;33m.\u001b[0m\u001b[0mGetField\u001b[0m\u001b[1;33m(\u001b[0m\u001b[1;34m\"DATA\"\u001b[0m\u001b[1;33m)\u001b[0m\u001b[1;33m\u001b[0m\u001b[1;33m\u001b[0m\u001b[0m\n\u001b[0m",
      "\u001b[1;31mAttributeError\u001b[0m: 'NoneType' object has no attribute 'GetField'"
     ]
    }
   ],
   "source": [
    "data = feature.GetField(\"DATA\")"
   ]
  },
  {
   "cell_type": "code",
   "execution_count": null,
   "id": "4201e01a",
   "metadata": {},
   "outputs": [],
   "source": []
  }
 ],
 "metadata": {
  "kernelspec": {
   "display_name": "Python 3",
   "language": "python",
   "name": "python3"
  },
  "language_info": {
   "codemirror_mode": {
    "name": "ipython",
    "version": 3
   },
   "file_extension": ".py",
   "mimetype": "text/x-python",
   "name": "python",
   "nbconvert_exporter": "python",
   "pygments_lexer": "ipython3",
   "version": "3.7.10"
  }
 },
 "nbformat": 4,
 "nbformat_minor": 5
}
