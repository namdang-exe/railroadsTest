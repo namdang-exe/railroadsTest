{
 "cells": [
  {
   "cell_type": "code",
   "execution_count": 1,
   "id": "288d39f2",
   "metadata": {},
   "outputs": [],
   "source": [
    "import arcpy\n",
    "import os\n",
    "from os import path\n",
    "from arcpy import da"
   ]
  },
  {
   "cell_type": "code",
   "execution_count": 2,
   "id": "5f9d594d",
   "metadata": {},
   "outputs": [],
   "source": [
    "################ Feature Class ################\n",
    "\n",
    "filePath = os.getcwd()\n",
    "ID = []\n",
    "folders = []\n",
    "# os.mkdir(\"rr_folders\")\n",
    "inTable = r\"\\\\csnt102\\RR Test FGDB\\1853c6caaf0d4146b11654847a455dec.gdb\\Rail_Inventory_Data_Collection\"\n",
    "with da.SearchCursor(inTable, ['globalid', 'CrossingInventoryNumber']) as cursor:\n",
    "    for item in cursor:\n",
    "        fileFolders = path.join(filePath, \"rr_folders\")\n",
    "        fileStore = path.join(fileFolders, str(item[1]))\n",
    "        # Append GUID and folders' name to a list\n",
    "        ID.append(item[0])\n",
    "        folders.append(fileStore)\n",
    "        if not path.isdir(fileStore):\n",
    "            os.mkdir(fileStore)\n"
   ]
  },
  {
   "cell_type": "code",
   "execution_count": 3,
   "id": "6c936cd5",
   "metadata": {},
   "outputs": [],
   "source": [
    "################ ATTACH ################\n",
    "\n",
    "# Relica the attachments\n",
    "# input and output paths\n",
    "filePath = os.getcwd()\n",
    "inTable = r\"\\\\csnt102\\RR Test FGDB\\1853c6caaf0d4146b11654847a455dec.gdb\\Rail_Inventory_Data_Collection__ATTACH\"\n",
    "# import attachments\n",
    "with da.SearchCursor(inTable, ['DATA', 'ATT_NAME', 'ATTACHMENTID', 'rel_globalid']) as cursor:\n",
    "    for item in cursor:\n",
    "        attachment = item[0]\n",
    "        filenum = \"RR\" + str(item[2]) + \"_\"\n",
    "        filename = filenum + str(item[1])\n",
    "        if item[3] in ID:\n",
    "            index = ID.index(item[3])\n",
    "            folder = path.join(folders[index], filename)\n",
    "            open(folder, 'wb').write(attachment.tobytes())"
   ]
  },
  {
   "cell_type": "code",
   "execution_count": null,
   "id": "84a5bb09",
   "metadata": {},
   "outputs": [],
   "source": [
    "################ ATTACH ################\n",
    "\n",
    "# Relica the attachments and change feature to 1\n",
    "# input and output paths\n",
    "filePath = os.getcwd()\n",
    "inTable = r\"\\\\csnt102\\RR Test FGDB\\1853c6caaf0d4146b11654847a455dec.gdb\\Rail_Inventory_Data_Collection__ATTACH\"\n",
    "# import attachments\n",
    "with da.SearchCursor(inTable, ['DATA', 'ATT_NAME', 'ATTACHMENTID', 'rel_globalid']) as cursor:\n",
    "    for item in cursor:\n",
    "        attachment = item[0]\n",
    "        filenum = \"RR\" + str(item[2]) + \"_\"\n",
    "        filename = filenum + str(item[1])\n",
    "        if item[3] in ID:\n",
    "            index = ID.index(item[3])\n",
    "            folder = path.join(folders[index], filename)\n",
    "            open(folder, 'wb').write(attachment.tobytes())"
   ]
  }
 ],
 "metadata": {
  "kernelspec": {
   "display_name": "Python 3",
   "language": "python",
   "name": "python3"
  },
  "language_info": {
   "codemirror_mode": {
    "name": "ipython",
    "version": 3
   },
   "file_extension": ".py",
   "mimetype": "text/x-python",
   "name": "python",
   "nbconvert_exporter": "python",
   "pygments_lexer": "ipython3",
   "version": "3.7.10"
  }
 },
 "nbformat": 4,
 "nbformat_minor": 5
}
