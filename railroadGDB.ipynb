{
 "cells": [
  {
   "cell_type": "code",
   "execution_count": 20,
   "metadata": {},
   "outputs": [],
   "source": [
    "import arcpy\n",
    "import os\n",
    "from os import path\n",
    "from arcpy import da"
   ]
  },
  {
   "cell_type": "code",
   "execution_count": null,
   "metadata": {},
   "outputs": [],
   "source": [
    "def folder_name():\n",
    "    filePath = r\"\"\n",
    "    for count, file in enumerate(os.listdir(filePath)):\n",
    "        new_fileName = str(count)\n",
    "        os.rename(os.path.join(filePath, file), os.path.join(filePath, new_fileName + \".png\"))"
   ]
  },
  {
   "cell_type": "code",
   "execution_count": 91,
   "metadata": {},
   "outputs": [],
   "source": [
    "# input and output paths\n",
    "filePath = os.getcwd()\n",
    "inTable = r\"\\\\csnt102\\RR Test FGDB\\1853c6caaf0d4146b11654847a455dec.gdb\\Rail_Inventory_Data_Collection__ATTACH\"\n",
    "\n",
    "fileLocation = path.join(filePath, \"rr_attachs\")\n",
    "fileFolders = path.join(filePath, \"rr_folders\")"
   ]
  },
  {
   "cell_type": "code",
   "execution_count": 103,
   "metadata": {},
   "outputs": [],
   "source": [
    "# import attachments\n",
    "inTable = r\"\\\\csnt102\\RR Test FGDB\\1853c6caaf0d4146b11654847a455dec.gdb\\Rail_Inventory_Data_Collection__ATTACH\"\n",
    "with da.SearchCursor(inTable, ['DATA', 'ATT_NAME', 'ATTACHMENTID', 'rel_globalid']) as cursor:\n",
    "    for item in cursor:\n",
    "        attachment = item[0]\n",
    "        filenum = \"ATT\" + str(item[2]) + \"_\"\n",
    "        filename = filenum + str(item[1])\n",
    "        if item[3] in ID:\n",
    "            index = ID.index(item[3])\n",
    "            # fileFolders = path.join(fileFolders, folders)\n",
    "            folder = path.join(folders[index], filename)\n",
    "            open(folder, 'wb').write(attachment.tobytes())\n"
   ]
  },
  {
   "cell_type": "code",
   "execution_count": 85,
   "metadata": {},
   "outputs": [
    {
     "name": "stdout",
     "output_type": "stream",
     "text": [
      "[WinError 183] Cannot create a file when that file already exists: 'C:\\\\Users\\\\dangn\\\\PycharmProjects\\\\railroadsTest\\\\rr_folders\\\\831225Y'\n"
     ]
    }
   ],
   "source": [
    "# Crossing ID\n",
    "ID = []\n",
    "folders = []\n",
    "os.mkdir(\"rr_folders\")\n",
    "inTable = r\"\\\\csnt102\\RR Test FGDB\\1853c6caaf0d4146b11654847a455dec.gdb\\Rail_Inventory_Data_Collection\"\n",
    "with da.SearchCursor(inTable, ['globalid', 'CrossingInventoryNumber']) as cursor:\n",
    "    for item in cursor:\n",
    "        fileFolders = path.join(filePath, \"rr_folders\")\n",
    "        fileStore = path.join(fileFolders, str(item[1]))\n",
    "        \n",
    "        try: \n",
    "            os.mkdir(fileStore)\n",
    "            ID.append(item[0])\n",
    "            folders.append(fileStore)\n",
    "        except OSError as error: \n",
    "            print(error) "
   ]
  },
  {
   "cell_type": "code",
   "execution_count": 86,
   "metadata": {},
   "outputs": [
    {
     "data": {
      "text/plain": [
       "['C:\\\\Users\\\\dangn\\\\PycharmProjects\\\\railroadsTest\\\\rr_folders\\\\306401Y',\n",
       " 'C:\\\\Users\\\\dangn\\\\PycharmProjects\\\\railroadsTest\\\\rr_folders\\\\726140K',\n",
       " 'C:\\\\Users\\\\dangn\\\\PycharmProjects\\\\railroadsTest\\\\rr_folders\\\\960790G',\n",
       " 'C:\\\\Users\\\\dangn\\\\PycharmProjects\\\\railroadsTest\\\\rr_folders\\\\306564H',\n",
       " 'C:\\\\Users\\\\dangn\\\\PycharmProjects\\\\railroadsTest\\\\rr_folders\\\\606565p',\n",
       " 'C:\\\\Users\\\\dangn\\\\PycharmProjects\\\\railroadsTest\\\\rr_folders\\\\306566w',\n",
       " 'C:\\\\Users\\\\dangn\\\\PycharmProjects\\\\railroadsTest\\\\rr_folders\\\\306567d',\n",
       " 'C:\\\\Users\\\\dangn\\\\PycharmProjects\\\\railroadsTest\\\\rr_folders\\\\615194m',\n",
       " 'C:\\\\Users\\\\dangn\\\\PycharmProjects\\\\railroadsTest\\\\rr_folders\\\\306572a',\n",
       " 'C:\\\\Users\\\\dangn\\\\PycharmProjects\\\\railroadsTest\\\\rr_folders\\\\306573g',\n",
       " 'C:\\\\Users\\\\dangn\\\\PycharmProjects\\\\railroadsTest\\\\rr_folders\\\\306570L',\n",
       " 'C:\\\\Users\\\\dangn\\\\PycharmProjects\\\\railroadsTest\\\\rr_folders\\\\306574n',\n",
       " 'C:\\\\Users\\\\dangn\\\\PycharmProjects\\\\railroadsTest\\\\rr_folders\\\\306575v',\n",
       " 'C:\\\\Users\\\\dangn\\\\PycharmProjects\\\\railroadsTest\\\\rr_folders\\\\306576C',\n",
       " 'C:\\\\Users\\\\dangn\\\\PycharmProjects\\\\railroadsTest\\\\rr_folders\\\\306580s',\n",
       " 'C:\\\\Users\\\\dangn\\\\PycharmProjects\\\\railroadsTest\\\\rr_folders\\\\351202R',\n",
       " 'C:\\\\Users\\\\dangn\\\\PycharmProjects\\\\railroadsTest\\\\rr_folders\\\\655904Y',\n",
       " 'C:\\\\Users\\\\dangn\\\\PycharmProjects\\\\railroadsTest\\\\rr_folders\\\\351219u',\n",
       " 'C:\\\\Users\\\\dangn\\\\PycharmProjects\\\\railroadsTest\\\\rr_folders\\\\831231C',\n",
       " 'C:\\\\Users\\\\dangn\\\\PycharmProjects\\\\railroadsTest\\\\rr_folders\\\\831292T',\n",
       " 'C:\\\\Users\\\\dangn\\\\PycharmProjects\\\\railroadsTest\\\\rr_folders\\\\831225Y',\n",
       " 'C:\\\\Users\\\\dangn\\\\PycharmProjects\\\\railroadsTest\\\\rr_folders\\\\831224S',\n",
       " 'C:\\\\Users\\\\dangn\\\\PycharmProjects\\\\railroadsTest\\\\rr_folders\\\\351203X',\n",
       " 'C:\\\\Users\\\\dangn\\\\PycharmProjects\\\\railroadsTest\\\\rr_folders\\\\635905F',\n",
       " 'C:\\\\Users\\\\dangn\\\\PycharmProjects\\\\railroadsTest\\\\rr_folders\\\\351109y',\n",
       " 'C:\\\\Users\\\\dangn\\\\PycharmProjects\\\\railroadsTest\\\\rr_folders\\\\351192M',\n",
       " 'C:\\\\Users\\\\dangn\\\\PycharmProjects\\\\railroadsTest\\\\rr_folders\\\\351194B',\n",
       " 'C:\\\\Users\\\\dangn\\\\PycharmProjects\\\\railroadsTest\\\\rr_folders\\\\948217J',\n",
       " 'C:\\\\Users\\\\dangn\\\\PycharmProjects\\\\railroadsTest\\\\rr_folders\\\\726869P',\n",
       " 'C:\\\\Users\\\\dangn\\\\PycharmProjects\\\\railroadsTest\\\\rr_folders\\\\831355V',\n",
       " 'C:\\\\Users\\\\dangn\\\\PycharmProjects\\\\railroadsTest\\\\rr_folders\\\\831356C',\n",
       " 'C:\\\\Users\\\\dangn\\\\PycharmProjects\\\\railroadsTest\\\\rr_folders\\\\831360S',\n",
       " 'C:\\\\Users\\\\dangn\\\\PycharmProjects\\\\railroadsTest\\\\rr_folders\\\\831361Y',\n",
       " 'C:\\\\Users\\\\dangn\\\\PycharmProjects\\\\railroadsTest\\\\rr_folders\\\\831366H',\n",
       " 'C:\\\\Users\\\\dangn\\\\PycharmProjects\\\\railroadsTest\\\\rr_folders\\\\831367P',\n",
       " 'C:\\\\Users\\\\dangn\\\\PycharmProjects\\\\railroadsTest\\\\rr_folders\\\\831368W',\n",
       " 'C:\\\\Users\\\\dangn\\\\PycharmProjects\\\\railroadsTest\\\\rr_folders\\\\831369D',\n",
       " 'C:\\\\Users\\\\dangn\\\\PycharmProjects\\\\railroadsTest\\\\rr_folders\\\\831373T',\n",
       " 'C:\\\\Users\\\\dangn\\\\PycharmProjects\\\\railroadsTest\\\\rr_folders\\\\831374A',\n",
       " 'C:\\\\Users\\\\dangn\\\\PycharmProjects\\\\railroadsTest\\\\rr_folders\\\\831347D']"
      ]
     },
     "execution_count": 86,
     "metadata": {},
     "output_type": "execute_result"
    }
   ],
   "source": [
    "folders"
   ]
  },
  {
   "cell_type": "code",
   "execution_count": 93,
   "metadata": {},
   "outputs": [
    {
     "data": {
      "text/plain": [
       "['{D9FCAE13-92DF-4762-8326-FEA919174E1D}',\n",
       " '{237A493F-235E-4590-A584-71E17A65511E}',\n",
       " '{F888D4BF-78B8-498B-A233-684806D1BE2C}',\n",
       " '{DB74BCCF-8981-4F86-9966-CA5E61172FCE}',\n",
       " '{3EF8625B-1BFA-4640-9D95-61C03ECCBD4A}',\n",
       " '{2C74E890-2C90-41C7-9F74-14FC350917BD}',\n",
       " '{C4128BA7-18BD-4AFB-96A7-87981D7024DB}',\n",
       " '{CE695074-A735-4439-81AF-A92E696329A7}',\n",
       " '{15B38B70-B4B2-4B4B-B5FC-ACEBB3835B9A}',\n",
       " '{5D5E1A3C-87BB-46FA-AAC3-C961D7DE814F}',\n",
       " '{D9D78FBA-F591-4C0E-A01A-66870CA837B0}',\n",
       " '{0DD2217B-CBA3-40E9-981F-FAE70A6563E7}',\n",
       " '{5CDAA920-7682-43B3-9C62-BBBD160CE987}',\n",
       " '{F4B8AD92-5582-4CE4-9BE4-EB9440B219A9}',\n",
       " '{4E48A64C-F0A0-4078-A241-15CAFEC4D522}',\n",
       " '{79465425-9AF4-4D32-AEBE-476F94D2A174}',\n",
       " '{8375446B-90F1-4675-B14A-E089C9B3B9ED}',\n",
       " '{DB01C151-508A-44A5-8415-1A894255EB57}',\n",
       " '{71859FB7-833D-4617-9327-15C6A1AB37CB}',\n",
       " '{1C0283A2-1509-4F8B-8A05-A080F2D411EC}',\n",
       " '{D1E8867D-D758-408E-8A46-92F69ECD4B84}',\n",
       " '{065BCEC3-D8B2-448E-A6D9-C6FE7B864048}',\n",
       " '{C2696157-B5B9-42BB-ACFA-2BA36E8B9675}',\n",
       " '{226F7048-70E6-4563-8104-61847CE160F3}',\n",
       " '{708C5F51-8572-4FED-854B-80FCFC0EC641}',\n",
       " '{62FB411D-51CD-4BF7-A2CE-AE651ACD41A8}',\n",
       " '{BA050E13-9977-4D68-9FA3-38CE14D17A33}',\n",
       " '{3D1FD6CA-3881-4FA1-BA4F-060062A4AF9A}',\n",
       " '{37F0444E-8439-448C-9E54-238A3155116C}',\n",
       " '{218559CF-F3FB-4F8C-BF45-C74D422156EB}',\n",
       " '{90C6A0C2-5B2C-466B-88AF-E1CE07D903BC}',\n",
       " '{2C306969-B16C-42BE-8031-ABC7ECB228BB}',\n",
       " '{B6BE1328-D083-4257-B0B4-CA9313B662E4}',\n",
       " '{AE6B83E7-D4D2-49A9-9916-F150D47B7AA1}',\n",
       " '{028E466D-5096-45BD-B832-FCBA76C15328}',\n",
       " '{1AE3AE8F-A050-4797-A2B3-99C7409E4FE3}',\n",
       " '{11E92483-CFC6-4BF4-A8BC-B6169F3A62E6}',\n",
       " '{20F09FA6-B908-4617-9E67-280CC0364B27}',\n",
       " '{7C41E114-5DFD-4CE5-9B99-8DCE90AB7E2E}',\n",
       " '{DB20695C-CEBF-4385-B33E-23EF0D493012}']"
      ]
     },
     "execution_count": 93,
     "metadata": {},
     "output_type": "execute_result"
    }
   ],
   "source": [
    "ID"
   ]
  },
  {
   "cell_type": "code",
   "execution_count": null,
   "metadata": {},
   "outputs": [],
   "source": []
  },
  {
   "cell_type": "code",
   "execution_count": 81,
   "metadata": {},
   "outputs": [
    {
     "name": "stdout",
     "output_type": "stream",
     "text": [
      "41\n"
     ]
    }
   ],
   "source": [
    "# there are 41 folders\n",
    "print(counter)"
   ]
  },
  {
   "cell_type": "code",
   "execution_count": null,
   "metadata": {},
   "outputs": [],
   "source": []
  },
  {
   "cell_type": "code",
   "execution_count": 57,
   "metadata": {},
   "outputs": [],
   "source": [
    "inTable = r\"\\\\csnt102\\RR Test FGDB\\1853c6caaf0d4146b11654847a455dec.gdb\"\n",
    "arcpy.env.workspace = inTable\n",
    "fcs = arcpy.ListFeatureClasses()\n",
    "tables = arcpy.ListTables()"
   ]
  },
  {
   "cell_type": "code",
   "execution_count": 58,
   "metadata": {},
   "outputs": [
    {
     "data": {
      "text/plain": [
       "['Rail_Inventory_Data_Collection']"
      ]
     },
     "execution_count": 58,
     "metadata": {},
     "output_type": "execute_result"
    }
   ],
   "source": [
    "fcs"
   ]
  },
  {
   "cell_type": "code",
   "execution_count": 32,
   "metadata": {},
   "outputs": [
    {
     "data": {
      "text/plain": [
       "['Rail_Inventory_Data_Collection__ATTACH']"
      ]
     },
     "execution_count": 32,
     "metadata": {},
     "output_type": "execute_result"
    }
   ],
   "source": [
    "tables"
   ]
  },
  {
   "cell_type": "code",
   "execution_count": 70,
   "metadata": {},
   "outputs": [
    {
     "data": {
      "text/plain": [
       "{'catalogPath': '\\\\\\\\csnt102\\\\RR Test FGDB\\\\1853c6caaf0d4146b11654847a455dec.gdb\\\\Rail_Inventory_Data_Collection',\n",
       " 'FIDSet': None,\n",
       " 'aliasName': '',\n",
       " 'areaFieldName': '',\n",
       " 'attributeRules': [],\n",
       " 'baseName': 'Rail_Inventory_Data_Collection',\n",
       " 'canVersion': False,\n",
       " 'changeTracked': False,\n",
       " 'children': [],\n",
       " 'childrenExpanded': True,\n",
       " 'createdAtFieldName': 'CreationDate',\n",
       " 'creatorFieldName': 'Creator',\n",
       " 'dataElementType': 'DEFeatureClass',\n",
       " 'datasetType': 'FeatureClass',\n",
       " 'dataType': 'FeatureClass',\n",
       " 'defaultSubtypeCode': -1,\n",
       " 'DSID': 38,\n",
       " 'editedAtFieldName': 'EditDate',\n",
       " 'editorFieldName': 'Editor',\n",
       " 'editorTrackingEnabled': True,\n",
       " 'extension': '',\n",
       " 'extensionProperties': {},\n",
       " 'extent': <Extent object at 0x29c1aff6308[0x29c20310f30]>,\n",
       " 'featureType': 'Simple',\n",
       " 'fields': [<Field object at 0x29c202e3388[0x29c245e72f0]>,\n",
       "  <Field object at 0x29c18762e88[0x29c245e77b0]>,\n",
       "  <Field object at 0x29c202e3e48[0x29c245e7330]>,\n",
       "  <Field object at 0x29c202e3808[0x29c245e7930]>,\n",
       "  <Field object at 0x29c202e33c8[0x29c245e7190]>,\n",
       "  <Field object at 0x29c211ce388[0x29c245e7290]>,\n",
       "  <Field object at 0x29c211ce088[0x29c245e78f0]>,\n",
       "  <Field object at 0x29c211cea88[0x29c245e7970]>,\n",
       "  <Field object at 0x29c211ce8c8[0x29c242b5950]>,\n",
       "  <Field object at 0x29c211cee88[0x29c242b53f0]>,\n",
       "  <Field object at 0x29c211ce1c8[0x29c242b5530]>,\n",
       "  <Field object at 0x29c211ce2c8[0x29c2454bf50]>,\n",
       "  <Field object at 0x29c211cefc8[0x29c2454be30]>,\n",
       "  <Field object at 0x29c211ced08[0x29c245cb470]>,\n",
       "  <Field object at 0x29c211ce9c8[0x29c245cb3f0]>,\n",
       "  <Field object at 0x29c202e4b88[0x29c245cb490]>,\n",
       "  <Field object at 0x29c202e4ac8[0x29c245cb7b0]>,\n",
       "  <Field object at 0x29c202e4188[0x29c245cb790]>,\n",
       "  <Field object at 0x29c24c2ef88[0x29c245cb750]>,\n",
       "  <Field object at 0x29c2081a788[0x29c245cbb10]>,\n",
       "  <Field object at 0x29c240e9e48[0x29c245cb9f0]>,\n",
       "  <Field object at 0x29c211ee488[0x29c245cb130]>,\n",
       "  <Field object at 0x29c211ee908[0x29c245cb830]>,\n",
       "  <Field object at 0x29c211eec88[0x29c245cbab0]>,\n",
       "  <Field object at 0x29c211eefc8[0x29c245cb2f0]>,\n",
       "  <Field object at 0x29c211ee188[0x29c245cb050]>,\n",
       "  <Field object at 0x29c211ee2c8[0x29c245cb110]>,\n",
       "  <Field object at 0x29c211eed48[0x29c245cb170]>,\n",
       "  <Field object at 0x29c211ee448[0x29c245cb270]>,\n",
       "  <Field object at 0x29c211eec08[0x29c245cb1d0]>,\n",
       "  <Field object at 0x29c211ee3c8[0x29c245cb950]>,\n",
       "  <Field object at 0x29c211ee8c8[0x29c245cb610]>,\n",
       "  <Field object at 0x29c211ee6c8[0x29c245cb6d0]>,\n",
       "  <Field object at 0x29c211ee788[0x29c245cb8f0]>,\n",
       "  <Field object at 0x29c211ee988[0x29c245cb410]>,\n",
       "  <Field object at 0x29c211ee048[0x29c245cb8d0]>,\n",
       "  <Field object at 0x29c211ee608[0x29c245cb810]>,\n",
       "  <Field object at 0x29c211ee148[0x29c24bdb8f0]>,\n",
       "  <Field object at 0x29c211ee5c8[0x29c24bdb5d0]>,\n",
       "  <Field object at 0x29c211ee948[0x29c24bdbf30]>,\n",
       "  <Field object at 0x29c211ee248[0x29c24bdb090]>,\n",
       "  <Field object at 0x29c211ee748[0x29c24bdb150]>,\n",
       "  <Field object at 0x29c211eef08[0x29c24bdb590]>,\n",
       "  <Field object at 0x29c211eee88[0x29c24bdb170]>,\n",
       "  <Field object at 0x29c211eee48[0x29c24bdbe30]>,\n",
       "  <Field object at 0x29c211ee508[0x29c24bdbeb0]>,\n",
       "  <Field object at 0x29c211ee1c8[0x29c24bdb030]>,\n",
       "  <Field object at 0x29c211eef48[0x29c24bdb430]>,\n",
       "  <Field object at 0x29c211eea08[0x29c24bdb3d0]>,\n",
       "  <Field object at 0x29c211ee848[0x29c24bdb6b0]>,\n",
       "  <Field object at 0x29c211eedc8[0x29c24bdbf70]>,\n",
       "  <Field object at 0x29c211eeac8[0x29c24bdb290]>,\n",
       "  <Field object at 0x29c211ee648[0x29c24bdb250]>,\n",
       "  <Field object at 0x29c211ee688[0x29c24bdb1f0]>,\n",
       "  <Field object at 0x29c211eea88[0x29c24bdb1d0]>,\n",
       "  <Field object at 0x29c211ee4c8[0x29c24bdb310]>,\n",
       "  <Field object at 0x29c211ee088[0x29c24bdb070]>,\n",
       "  <Field object at 0x29c211ee108[0x29c24bdb530]>,\n",
       "  <Field object at 0x29c211ee408[0x29c24bdb110]>,\n",
       "  <Field object at 0x29c211eea48[0x29c211db9b0]>,\n",
       "  <Field object at 0x29c211ee0c8[0x29c211db930]>,\n",
       "  <Field object at 0x29c211ee208[0x29c211db8b0]>,\n",
       "  <Field object at 0x29c211eecc8[0x29c211db830]>,\n",
       "  <Field object at 0x29c202e2908[0x29c211db7b0]>,\n",
       "  <Field object at 0x29c195aaf08[0x29c211db730]>,\n",
       "  <Field object at 0x29c202cc608[0x29c211db6b0]>,\n",
       "  <Field object at 0x29c20838048[0x29c211db630]>,\n",
       "  <Field object at 0x29c20838788[0x29c211db5b0]>,\n",
       "  <Field object at 0x29c20838348[0x29c211db530]>,\n",
       "  <Field object at 0x29c20838888[0x29c211db4b0]>,\n",
       "  <Field object at 0x29c20838b48[0x29c211db430]>,\n",
       "  <Field object at 0x29c20838308[0x29c211db3b0]>,\n",
       "  <Field object at 0x29c208384c8[0x29c211db330]>,\n",
       "  <Field object at 0x29c20838b08[0x29c211db2b0]>,\n",
       "  <Field object at 0x29c20838a48[0x29c211db230]>,\n",
       "  <Field object at 0x29c208386c8[0x29c211db1b0]>,\n",
       "  <Field object at 0x29c20838e88[0x29c211db130]>,\n",
       "  <Field object at 0x29c20838c48[0x29c211db0b0]>,\n",
       "  <Field object at 0x29c20838f08[0x29c211db030]>,\n",
       "  <Field object at 0x29c20838588[0x29c211dba30]>,\n",
       "  <Field object at 0x29c20838e48[0x29c211dba70]>,\n",
       "  <Field object at 0x29c20838a08[0x29c211dbab0]>,\n",
       "  <Field object at 0x29c20838248[0x29c211dbaf0]>,\n",
       "  <Field object at 0x29c20838d48[0x29c211dbb30]>,\n",
       "  <Field object at 0x29c211c7e88[0x29c211dbb70]>,\n",
       "  <Field object at 0x29c211c7688[0x29c2442e6b0]>,\n",
       "  <Field object at 0x29c211c7608[0x29c2442e7f0]>,\n",
       "  <Field object at 0x29c241ded08[0x29c24bdb8d0]>,\n",
       "  <Field object at 0x29c1aff6208[0x29c24bdb950]>,\n",
       "  <Field object at 0x29c1ac09a48[0x29c24bdb610]>,\n",
       "  <Field object at 0x29c20828f08[0x29c24bdb670]>,\n",
       "  <Field object at 0x29c20828108[0x29c24bdb2d0]>,\n",
       "  <Field object at 0x29c20828f88[0x29c24bdb330]>,\n",
       "  <Field object at 0x29c202de108[0x29c24bdbfb0]>,\n",
       "  <Field object at 0x29c202de588[0x29c24bdbe50]>,\n",
       "  <Field object at 0x29c202c3208[0x29c24bdb0d0]>,\n",
       "  <Field object at 0x29c202c3248[0x29c24bdb5b0]>,\n",
       "  <Field object at 0x29c202e1188[0x29c24bdb470]>,\n",
       "  <Field object at 0x29c202e1a08[0x29c24bdb550]>,\n",
       "  <Field object at 0x29c202e1608[0x29c24bdb270]>,\n",
       "  <Field object at 0x29c202e1648[0x29c24bdb370]>,\n",
       "  <Field object at 0x29c202e1448[0x29c24bdb970]>,\n",
       "  <Field object at 0x29c202e1ec8[0x29c245cba30]>,\n",
       "  <Field object at 0x29c202e1788[0x29c245cb970]>,\n",
       "  <Field object at 0x29c202e1748[0x29c245cba10]>,\n",
       "  <Field object at 0x29c202e14c8[0x29c245cb1f0]>,\n",
       "  <Field object at 0x29c202e17c8[0x29c245cb190]>,\n",
       "  <Field object at 0x29c202e1dc8[0x29c245cb070]>],\n",
       " 'file': 'Rail_Inventory_Data_Collection',\n",
       " 'fullPropsRetrieved': True,\n",
       " 'geometryStorage': '',\n",
       " 'globalIDFieldName': 'globalid',\n",
       " 'hasGlobalID': True,\n",
       " 'hasM': False,\n",
       " 'hasOID': True,\n",
       " 'hasSpatialIndex': True,\n",
       " 'hasZ': False,\n",
       " 'indexes': [<Index object at 0x29c20817548[0x29c245cb350]>,\n",
       "  <Index object at 0x29c20817b48[0x29c245cb570]>,\n",
       "  <Index object at 0x29c20817a08[0x29c245cbb30]>,\n",
       "  <Index object at 0x29c20817ac8[0x29c245cb370]>,\n",
       "  <Index object at 0x29c20817088[0x29c245cb4b0]>,\n",
       "  <Index object at 0x29c211dd3c8[0x29c245cb4d0]>,\n",
       "  <Index object at 0x29c211ddb88[0x29c245cb850]>],\n",
       " 'isCOGOEnabled': False,\n",
       " 'isTimeInUTC': True,\n",
       " 'isVersioned': False,\n",
       " 'lengthFieldName': '',\n",
       " 'metadataRetrieved': False,\n",
       " 'MExtent': 'nan nan',\n",
       " 'modelName': '',\n",
       " 'name': 'Rail_Inventory_Data_Collection',\n",
       " 'OIDFieldName': 'objectid',\n",
       " 'path': '\\\\\\\\csnt102\\\\RR Test FGDB\\\\1853c6caaf0d4146b11654847a455dec.gdb',\n",
       " 'rasterFieldName': '',\n",
       " 'relationshipClassNames': ['Rail_Inventory_Data_Collection__ATTACHREL'],\n",
       " 'representations': [],\n",
       " 'shapeFieldName': 'SHAPE',\n",
       " 'shapeType': 'Point',\n",
       " 'spatialReference': <SpatialReference object at 0x29c211ddfc8[0x29c245cb930]>,\n",
       " 'subtypeFieldName': '',\n",
       " 'versionedView': '',\n",
       " 'ZExtent': 'nan nan'}"
      ]
     },
     "execution_count": 70,
     "metadata": {},
     "output_type": "execute_result"
    }
   ],
   "source": [
    "inTable = r\"\\\\csnt102\\RR Test FGDB\\1853c6caaf0d4146b11654847a455dec.gdb\\Rail_Inventory_Data_Collection\"\n",
    "arcpy.env.workspace = inTable\n",
    "tables = arcpy.ListTables()\n",
    "desc = da.Describe(inTable)\n",
    "desc"
   ]
  },
  {
   "cell_type": "code",
   "execution_count": 77,
   "metadata": {},
   "outputs": [
    {
     "name": "stdout",
     "output_type": "stream",
     "text": [
      "objectid\n",
      "SHAPE\n",
      "globalid\n",
      "RequiredFieldNote\n",
      "ReviewDate\n",
      "CrossingInventoryNumber\n",
      "PrimaryOperatingRR\n",
      "StateAL\n",
      "CountyList\n",
      "CityMunicipalityName\n",
      "StreetName\n",
      "BlockNumber\n",
      "RouteID\n",
      "Latitude\n",
      "Longitude\n",
      "LatLongSource\n",
      "CrossingType\n",
      "CrossingPurpose\n",
      "CrossingPosition\n",
      "PrivateCrossing\n",
      "PublicAccess\n",
      "TypeOfLandUsed\n",
      "AdjacentCrossing\n",
      "StateUse31A\n",
      "StateUse31B\n",
      "StateUse31C\n",
      "StateUse31D\n",
      "NarrativeStateUse\n",
      "TrackType\n",
      "TrackTypeCount\n",
      "SignsOrSignalsYesNo\n",
      "Crossbuck\n",
      "StopSign\n",
      "YieldSign\n",
      "AdvanceWarningSigns\n",
      "W101\n",
      "W102\n",
      "W103\n",
      "W104\n",
      "W1011\n",
      "W1012\n",
      "LowGroundClearanceSign\n",
      "PavementMarkings\n",
      "ChannelizationDevices\n",
      "ExemptSign\n",
      "ENSSign\n",
      "PrivateCrossingSigns\n",
      "LEDEnhancedSigns\n",
      "OtherMUTCDSigns\n",
      "MUTCD1\n",
      "MUTCD1Count\n",
      "MUTCD2\n",
      "MUTCD2Count\n",
      "MUTCD3\n",
      "MUTCD3Count\n",
      "GateArmsRoadway\n",
      "GateArmsPed\n",
      "GateConfiguration\n",
      "OverTraffLane\n",
      "NotOverTraffLane\n",
      "FlashingLightType\n",
      "MastCount\n",
      "MastMountedFlashingLights\n",
      "FlashingLightPairCount\n",
      "WaysideHorn\n",
      "WaysideHornInstallationDate\n",
      "HighwayTrafficSignalsControllingCrossing\n",
      "BellCount\n",
      "NonTrainActiveWarning\n",
      "OtherFlashingLightsOrWarningDevices\n",
      "OtherFlashingLightsOrWartningDeviceType\n",
      "NrbyTrafficSignals\n",
      "HwyTrafficSignalInterconnection\n",
      "HwyTrafficSignalPreemption\n",
      "HighwayTrafficPreSignals\n",
      "StorageDistance\n",
      "StopLineDistance\n",
      "HwyMonitoringDevices\n",
      "TrafficLanesCrossingRR\n",
      "NumberOfLanes\n",
      "IsRoadwayPathwayPaved\n",
      "RunDownStreet\n",
      "CrossingIlluminated\n",
      "CrossingSurfaceType\n",
      "OtherCrossingSurfaceType\n",
      "CrossingSurfaceInstallationDate\n",
      "CrossingSurfaceWidth\n",
      "CrossingSurfaceLength\n",
      "IntersectingRoadway\n",
      "IntersectingRdwyApproxDist\n",
      "SmallestCrossingAngle\n",
      "CommercialPowerAvailability\n",
      "HighwaySystem\n",
      "RuralUrban\n",
      "FunctionalClassification\n",
      "StateHwySystem\n",
      "SpeedLimit\n",
      "SpeedLimitPosted\n",
      "AADT\n",
      "AADTYear\n",
      "EstimatedPercentTrucks\n",
      "UsedByBuses\n",
      "AvgNumPerDay\n",
      "EmergencySvcsRoute\n",
      "CreationDate\n",
      "Creator\n",
      "EditDate\n",
      "Editor\n"
     ]
    }
   ],
   "source": [
    "for field in desc[\"fields\"]:\n",
    "    print(field.name)"
   ]
  },
  {
   "cell_type": "code",
   "execution_count": null,
   "metadata": {},
   "outputs": [],
   "source": []
  },
  {
   "cell_type": "code",
   "execution_count": null,
   "metadata": {},
   "outputs": [],
   "source": []
  },
  {
   "cell_type": "code",
   "execution_count": null,
   "metadata": {},
   "outputs": [],
   "source": []
  },
  {
   "cell_type": "code",
   "execution_count": 55,
   "metadata": {},
   "outputs": [
    {
     "name": "stdout",
     "output_type": "stream",
     "text": [
      "Rail_Inventory_Data_Collection \n",
      " type: {'catalogPath': '\\\\\\\\csnt102\\\\RR Test FGDB\\\\1853c6caaf0d4146b11654847a455dec.gdb\\\\Rail_Inventory_Data_Collection', 'FIDSet': None, 'aliasName': '', 'areaFieldName': '', 'attributeRules': [], 'baseName': 'Rail_Inventory_Data_Collection', 'canVersion': False, 'changeTracked': False, 'children': [], 'childrenExpanded': True, 'createdAtFieldName': 'CreationDate', 'creatorFieldName': 'Creator', 'dataElementType': 'DEFeatureClass', 'datasetType': 'FeatureClass', 'dataType': 'FeatureClass', 'defaultSubtypeCode': -1, 'DSID': 38, 'editedAtFieldName': 'EditDate', 'editorFieldName': 'Editor', 'editorTrackingEnabled': True, 'extension': '', 'extensionProperties': {}, 'extent': <Extent object at 0x29c195aaf08[0x29c24619b10]>, 'featureType': 'Simple', 'fields': [<Field object at 0x29c208280c8[0x29c2442ef70]>, <Field object at 0x29c20828148[0x29c2454b4b0]>, <Field object at 0x29c20828608[0x29c2454b5d0]>, <Field object at 0x29c20828cc8[0x29c2454bd90]>, <Field object at 0x29c208284c8[0x29c2454b730]>, <Field object at 0x29c20828b48[0x29c2454bf70]>, <Field object at 0x29c20828808[0x29c2454bc50]>, <Field object at 0x29c208285c8[0x29c2454bf50]>, <Field object at 0x29c20828348[0x29c2454bd50]>, <Field object at 0x29c20828788[0x29c2454b490]>, <Field object at 0x29c208286c8[0x29c243e66d0]>, <Field object at 0x29c20828f88[0x29c243e64d0]>, <Field object at 0x29c20828648[0x29c243e68b0]>, <Field object at 0x29c20828f48[0x29c242b5390]>, <Field object at 0x29c208282c8[0x29c242b5ab0]>, <Field object at 0x29c208289c8[0x29c242b58f0]>, <Field object at 0x29c20828108[0x29c242b5030]>, <Field object at 0x29c20828e48[0x29c242b5210]>, <Field object at 0x29c211bd7c8[0x29c242b5350]>, <Field object at 0x29c211bddc8[0x29c242b55f0]>, <Field object at 0x29c211bdec8[0x29c242b5a50]>, <Field object at 0x29c211bd848[0x29c242b5970]>, <Field object at 0x29c211bdf48[0x29c242b56d0]>, <Field object at 0x29c211bda88[0x29c242b5a90]>, <Field object at 0x29c211bda08[0x29c242b5950]>, <Field object at 0x29c211bde08[0x29c242b59b0]>, <Field object at 0x29c211bd908[0x29c242b5490]>, <Field object at 0x29c211bdc88[0x29c242b5b50]>, <Field object at 0x29c211bdf08[0x29c242b5890]>, <Field object at 0x29c211bd888[0x29c242b5410]>, <Field object at 0x29c211bdc08[0x29c242b5f50]>, <Field object at 0x29c211bdb88[0x29c242b5070]>, <Field object at 0x29c211bd648[0x29c242b54f0]>, <Field object at 0x29c211bd6c8[0x29c242b55d0]>, <Field object at 0x29c211bd988[0x29c242b5450]>, <Field object at 0x29c211bdb08[0x29c242b58d0]>, <Field object at 0x29c211bd708[0x29c242b5510]>, <Field object at 0x29c211bd808[0x29c242b5db0]>, <Field object at 0x29c211bdd48[0x29c242b5610]>, <Field object at 0x29c211bd748[0x29c242b52d0]>, <Field object at 0x29c211bde48[0x29c242b59f0]>, <Field object at 0x29c211bd788[0x29c242b5a10]>, <Field object at 0x29c211bd8c8[0x29c242b52f0]>, <Field object at 0x29c211bdfc8[0x29c242b5310]>, <Field object at 0x29c211bd948[0x29c242b54b0]>, <Field object at 0x29c202dc348[0x29c245e79b0]>, <Field object at 0x29c202dc808[0x29c245e77d0]>, <Field object at 0x29c202dcac8[0x29c245e7630]>, <Field object at 0x29c202dc8c8[0x29c245e7450]>, <Field object at 0x29c202dce88[0x29c245e7f30]>, <Field object at 0x29c202dcb88[0x29c245e75d0]>, <Field object at 0x29c202dc948[0x29c245e7850]>, <Field object at 0x29c202dc188[0x29c245e7c30]>, <Field object at 0x29c202dc148[0x29c245e7170]>, <Field object at 0x29c202dce08[0x29c245e7c70]>, <Field object at 0x29c202dca88[0x29c245e7f50]>, <Field object at 0x29c202dca48[0x29c245e74f0]>, <Field object at 0x29c202dc208[0x29c245e75f0]>, <Field object at 0x29c202dc9c8[0x29c245e76d0]>, <Field object at 0x29c202dcf08[0x29c245e77f0]>, <Field object at 0x29c202dc0c8[0x29c245e78f0]>, <Field object at 0x29c202dc1c8[0x29c245e79f0]>, <Field object at 0x29c202dcec8[0x29c245e7af0]>, <Field object at 0x29c202dc508[0x29c245e7bd0]>, <Field object at 0x29c202dcfc8[0x29c245e7070]>, <Field object at 0x29c202dc248[0x29c245e7150]>, <Field object at 0x29c202dc5c8[0x29c245e7a10]>, <Field object at 0x29c202dcd48[0x29c245e7910]>, <Field object at 0x29c202dc4c8[0x29c245e7810]>, <Field object at 0x29c202dc408[0x29c245e7710]>, <Field object at 0x29c20817348[0x29c245e7610]>, <Field object at 0x29c20817188[0x29c245e7510]>, <Field object at 0x29c20817d48[0x29c245e7410]>, <Field object at 0x29c20817888[0x29c245e7a50]>, <Field object at 0x29c20817748[0x29c245e7110]>, <Field object at 0x29c20817c08[0x29c245e7030]>, <Field object at 0x29c20817e08[0x29c245e7bb0]>, <Field object at 0x29c20817588[0x29c245e7ab0]>, <Field object at 0x29c20817b08[0x29c245e79d0]>, <Field object at 0x29c20817488[0x29c245e78b0]>, <Field object at 0x29c20817708[0x29c245e77b0]>, <Field object at 0x29c20817fc8[0x29c245e76b0]>, <Field object at 0x29c208171c8[0x29c245e7590]>, <Field object at 0x29c20817908[0x29c245e74b0]>, <Field object at 0x29c20817ac8[0x29c245e7f90]>, <Field object at 0x29c20817808[0x29c245e7c90]>, <Field object at 0x29c20817948[0x29c245e7130]>, <Field object at 0x29c20838c08[0x29c245e7bf0]>, <Field object at 0x29c20838588[0x29c242b5550]>, <Field object at 0x29c20838c48[0x29c242b5650]>, <Field object at 0x29c20838048[0x29c242b5ad0]>, <Field object at 0x29c20838b08[0x29c242b5b30]>, <Field object at 0x29c202de108[0x29c242b5b10]>, <Field object at 0x29c1afe8d88[0x29c242b5990]>, <Field object at 0x29c202bd348[0x29c242b5090]>, <Field object at 0x29c202d6fc8[0x29c242b5430]>, <Field object at 0x29c202d6408[0x29c242b5bb0]>, <Field object at 0x29c202d6a48[0x29c242b59d0]>, <Field object at 0x29c202d6308[0x29c242b5b70]>, <Field object at 0x29c202d63c8[0x29c242b5ef0]>, <Field object at 0x29c202d6588[0x29c242b5af0]>, <Field object at 0x29c202d6f08[0x29c242b53f0]>, <Field object at 0x29c202d6208[0x29c242b55b0]>, <Field object at 0x29c202d6d48[0x29c242b51f0]>, <Field object at 0x29c202d6548[0x29c243e6b30]>, <Field object at 0x29c202d6948[0x29c243e66b0]>, <Field object at 0x29c202d6088[0x29c2454be10]>, <Field object at 0x29c202d6488[0x29c2454b0d0]>], 'file': 'Rail_Inventory_Data_Collection', 'fullPropsRetrieved': True, 'geometryStorage': '', 'globalIDFieldName': 'globalid', 'hasGlobalID': True, 'hasM': False, 'hasOID': True, 'hasSpatialIndex': True, 'hasZ': False, 'indexes': [<Index object at 0x29c20817848[0x29c2454bf30]>, <Index object at 0x29c208173c8[0x29c2454b790]>, <Index object at 0x29c20817b88[0x29c2442e7f0]>, <Index object at 0x29c20817448[0x29c19e19b70]>, <Index object at 0x29c208172c8[0x29c245e7b50]>, <Index object at 0x29c20817a08[0x29c2454be30]>, <Index object at 0x29c20817d08[0x29c245e7530]>], 'isCOGOEnabled': False, 'isTimeInUTC': True, 'isVersioned': False, 'lengthFieldName': '', 'metadataRetrieved': False, 'MExtent': 'nan nan', 'modelName': '', 'name': 'Rail_Inventory_Data_Collection', 'OIDFieldName': 'objectid', 'path': '\\\\\\\\csnt102\\\\RR Test FGDB\\\\1853c6caaf0d4146b11654847a455dec.gdb', 'rasterFieldName': '', 'relationshipClassNames': ['Rail_Inventory_Data_Collection__ATTACHREL'], 'representations': [], 'shapeFieldName': 'SHAPE', 'shapeType': 'Point', 'spatialReference': <SpatialReference object at 0x29c202e1dc8[0x29c245e7730]>, 'subtypeFieldName': '', 'versionedView': '', 'ZExtent': 'nan nan'} \n",
      "\n",
      "\n",
      "Rail_Inventory_Data_Collection__ATTACH \n",
      " type: {'catalogPath': '\\\\\\\\csnt102\\\\RR Test FGDB\\\\1853c6caaf0d4146b11654847a455dec.gdb\\\\Rail_Inventory_Data_Collection__ATTACH', 'FIDSet': None, 'aliasName': '', 'attributeRules': [], 'baseName': 'Rail_Inventory_Data_Collection__ATTACH', 'canVersion': False, 'changeTracked': False, 'children': [], 'childrenExpanded': True, 'createdAtFieldName': '', 'creatorFieldName': '', 'dataElementType': 'DETable', 'datasetType': 'Table', 'dataType': 'Table', 'defaultSubtypeCode': -1, 'DSID': 39, 'editedAtFieldName': '', 'editorFieldName': '', 'editorTrackingEnabled': False, 'extension': '', 'extensionProperties': {}, 'fields': [<Field object at 0x29c211bd908[0x29c19e19b70]>, <Field object at 0x29c211bdf08[0x29c242b5390]>, <Field object at 0x29c211bd888[0x29c242b5210]>, <Field object at 0x29c211bdc08[0x29c242b55f0]>, <Field object at 0x29c211bdb88[0x29c242b5970]>, <Field object at 0x29c211bd6c8[0x29c2442ef70]>, <Field object at 0x29c211bd988[0x29c242b5950]>], 'file': 'Rail_Inventory_Data_Collection__ATTACH', 'fullPropsRetrieved': True, 'globalIDFieldName': 'GLOBALID', 'hasGlobalID': True, 'hasOID': True, 'indexes': [<Index object at 0x29c211bdd48[0x29c242b5490]>, <Index object at 0x29c211bd748[0x29c242b5410]>, <Index object at 0x29c211bde48[0x29c242b5070]>], 'isTimeInUTC': True, 'isVersioned': False, 'metadataRetrieved': False, 'modelName': '', 'name': 'Rail_Inventory_Data_Collection__ATTACH', 'OIDFieldName': 'ATTACHMENTID', 'path': '\\\\\\\\csnt102\\\\RR Test FGDB\\\\1853c6caaf0d4146b11654847a455dec.gdb', 'rasterFieldName': '', 'relationshipClassNames': ['Rail_Inventory_Data_Collection__ATTACHREL'], 'subtypeFieldName': '', 'versionedView': ''} \n",
      "\n",
      "\n"
     ]
    },
    {
     "name": "stdout",
     "output_type": "stream",
     "text": [
      "Rail_Inventory_Data_Collection__ATTACHREL \n",
      " type: {'catalogPath': '\\\\\\\\csnt102\\\\RR Test FGDB\\\\1853c6caaf0d4146b11654847a455dec.gdb\\\\Rail_Inventory_Data_Collection__ATTACHREL', 'FIDSet': None, 'backwardPathLabel': 'object', 'baseName': 'Rail_Inventory_Data_Collection__ATTACHREL', 'canVersion': False, 'cardinality': 'OneToMany', 'changeTracked': False, 'children': [], 'childrenExpanded': True, 'classKey': 'Undefined', 'dataElementType': 'DERelationshipClass', 'datasetType': 'RelationshipClass', 'dataType': 'RelationshipClass', 'destinationClassKeys': [], 'destinationClassNames': ['Rail_Inventory_Data_Collection__ATTACH'], 'DSID': 40, 'extension': '', 'fields': [], 'file': 'Rail_Inventory_Data_Collection__ATTACHREL', 'forwardPathLabel': 'attachment', 'fullPropsRetrieved': True, 'isAttachmentRelationship': True, 'isAttributed': False, 'isComposite': True, 'isReflexive': False, 'isVersioned': False, 'keyType': 'Single', 'metadataRetrieved': False, 'name': 'Rail_Inventory_Data_Collection__ATTACHREL', 'notification': 'None', 'originClassKeys': [('globalid', 'OriginPrimary', ''), ('REL_GLOBALID', 'OriginForeign', '')], 'originClassNames': ['Rail_Inventory_Data_Collection'], 'path': '\\\\\\\\csnt102\\\\RR Test FGDB\\\\1853c6caaf0d4146b11654847a455dec.gdb', 'relationshipRules': []} \n",
      "\n",
      "\n",
      "GDB_ServiceItems \n",
      " type: {'catalogPath': '\\\\\\\\csnt102\\\\RR Test FGDB\\\\1853c6caaf0d4146b11654847a455dec.gdb\\\\GDB_ServiceItems', 'FIDSet': None, 'aliasName': 'GDB_ServiceItems', 'attributeRules': [], 'baseName': 'GDB_ServiceItems', 'canVersion': False, 'changeTracked': False, 'children': [], 'childrenExpanded': True, 'createdAtFieldName': '', 'creatorFieldName': '', 'dataElementType': 'DETable', 'datasetType': 'Table', 'dataType': 'Table', 'defaultSubtypeCode': -1, 'DSID': -1, 'editedAtFieldName': '', 'editorFieldName': '', 'editorTrackingEnabled': False, 'extension': '', 'extensionProperties': {}, 'fields': [<Field object at 0x29c211bdb88[0x29c2442ef70]>, <Field object at 0x29c211bd6c8[0x29c242b5890]>, <Field object at 0x29c211bdc08[0x29c242b5070]>, <Field object at 0x29c211bd888[0x29c242b5210]>, <Field object at 0x29c211bdf08[0x29c242b5970]>, <Field object at 0x29c211bd648[0x29c19e19b70]>], 'file': 'GDB_ServiceItems', 'fullPropsRetrieved': True, 'globalIDFieldName': '', 'hasGlobalID': False, 'hasOID': True, 'indexes': [<Index object at 0x29c211bd808[0x29c242b5450]>], 'isTimeInUTC': True, 'isVersioned': False, 'metadataRetrieved': False, 'modelName': '', 'name': 'GDB_ServiceItems', 'OIDFieldName': 'OBJECTID', 'path': '\\\\\\\\csnt102\\\\RR Test FGDB\\\\1853c6caaf0d4146b11654847a455dec.gdb', 'rasterFieldName': '', 'relationshipClassNames': [], 'subtypeFieldName': '', 'versionedView': ''} \n",
      "\n",
      "\n"
     ]
    }
   ],
   "source": [
    "inTable = r\"\\\\csnt102\\RR Test FGDB\\1853c6caaf0d4146b11654847a455dec.gdb\"\n",
    "arcpy.env.workspace = inTable\n",
    "walk = arcpy.da.Walk(inTable)\n",
    "for dirpath, dirnames, filenames in walk:\n",
    "    for fn in filenames:\n",
    "        print(f\"{fn} \\ntype: {arcpy.da.Describe(fn)} \\n\\n\")"
   ]
  },
  {
   "cell_type": "code",
   "execution_count": null,
   "metadata": {},
   "outputs": [],
   "source": []
  }
 ],
 "metadata": {
  "kernelspec": {
   "display_name": "Python 3",
   "language": "python",
   "name": "python3"
  },
  "language_info": {
   "codemirror_mode": {
    "name": "ipython",
    "version": 3
   },
   "file_extension": ".py",
   "mimetype": "text/x-python",
   "name": "python",
   "nbconvert_exporter": "python",
   "pygments_lexer": "ipython3",
   "version": "3.7.10"
  }
 },
 "nbformat": 4,
 "nbformat_minor": 4
}
