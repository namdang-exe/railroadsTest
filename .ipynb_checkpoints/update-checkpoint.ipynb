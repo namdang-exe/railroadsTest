{
 "cells": [
  {
   "cell_type": "code",
   "execution_count": null,
   "id": "e9a8b6ba",
   "metadata": {},
   "outputs": [],
   "source": [
    "import arcpy\n",
    "import os\n",
    "from os import path\n",
    "from arcpy import da\n",
    "import datetime"
   ]
  },
  {
   "cell_type": "code",
   "execution_count": null,
   "id": "92e19b69",
   "metadata": {},
   "outputs": [],
   "source": [
    "################ Feature Class ################\n",
    "\n",
    "# Loop through rows in the table and look for 0s\n",
    "# Input and output paths\n",
    "filePath = os.getcwd()\n",
    "inTable = r\"C:\\Users\\dangn\\PycharmProjects\\railroadsTest\\gdbs\\Railroads.gdb\\Rail_Inventory_Data_Collection\" # Feature Class\n",
    "workspace = r\"C:\\Users\\dangn\\PycharmProjects\\railroadsTest\\gdbs\\Railroads.gdb\"\n",
    "# Attributes to look for in the feature class\n",
    "fields = ['processed_data', 'ReviewDate']\n",
    "# Python arrays\n",
    "ID = []\n",
    "folders = []\n",
    "\n",
    "\n",
    "    \n",
    "# Process: Edit Session\n",
    "edit = arcpy.da.Editor(workspace)\n",
    "edit.startEditing(False, True)\n",
    "edit.startOperation()\n",
    "\n",
    "# Process: Select and Update Data\n",
    "# look for 0s in the processed_table\n",
    "with da.UpdateCursor(inTable, fields) as cursor:\n",
    "    for row in cursor:\n",
    "        date = row[1]\n",
    "        if date.month < 4:\n",
    "            row[0] = 1\n",
    "        cursor.updateRow(row)\n",
    "        \n",
    "del cursor\n",
    "edit.stopOperation()\n",
    "edit.stopEditing(True)"
   ]
  }
 ],
 "metadata": {
  "kernelspec": {
   "display_name": "Python 3",
   "language": "python",
   "name": "python3"
  },
  "language_info": {
   "codemirror_mode": {
    "name": "ipython",
    "version": 3
   },
   "file_extension": ".py",
   "mimetype": "text/x-python",
   "name": "python",
   "nbconvert_exporter": "python",
   "pygments_lexer": "ipython3",
   "version": "3.7.10"
  }
 },
 "nbformat": 4,
 "nbformat_minor": 5
}
