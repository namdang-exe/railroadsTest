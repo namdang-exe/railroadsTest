{
 "cells": [
  {
   "cell_type": "code",
   "execution_count": 1,
   "id": "493c65be",
   "metadata": {},
   "outputs": [],
   "source": [
    "import pandas as pd\n",
    "import arcpy\n",
    "from arcpy import da\n",
    "import os\n",
    "from os import path\n",
    "import csv"
   ]
  },
  {
   "cell_type": "code",
   "execution_count": 2,
   "id": "2a9aac59",
   "metadata": {},
   "outputs": [],
   "source": [
    "working_dir = os.getcwd()\n",
    "geodb = r\"gdbs\\Railroads.gdb\"\n",
    "fc_name = \"Rail_Inventory_Data_Collection\"\n",
    "fc_layer = \"Rail_Inventory_Data_Collection__ATTACH\"\n",
    "\n",
    "feature_class = path.join(working_dir, geodb, fc_layer)"
   ]
  },
  {
   "cell_type": "code",
   "execution_count": 33,
   "id": "5fb52c43",
   "metadata": {},
   "outputs": [],
   "source": [
    "arcpy.env.workspace = str(feature_class)\n",
    "try:\n",
    "    field_names = [f.name for f in arcpy.ListFields(feature_class)]\n",
    "except arcpy.ExecuteError:\n",
    "    print(arcpy.GetMessages(2))"
   ]
  },
  {
   "cell_type": "code",
   "execution_count": 34,
   "id": "180ae197",
   "metadata": {},
   "outputs": [],
   "source": [
    "outputCSV = os.path.join(working_dir, \"RailCrossing.csv\")\n",
    "try:\n",
    "    with open(outputCSV, \"w\") as csvfile:\n",
    "        csvwriter = csv.writer(csvfile, delimiter=',', lineterminator='\\n')\n",
    "        ## Write field name header line\n",
    "        csvwriter.writerow(field_names)\n",
    "        ## Write data rows\n",
    "        with arcpy.da.SearchCursor(inTable, field_names) as s_cursor:\n",
    "            for row in s_cursor:\n",
    "                csvwriter.writerow(row)\n",
    "\n",
    "except Exception as err:\n",
    "    print(f\"General error: {err}\")"
   ]
  }
 ],
 "metadata": {
  "kernelspec": {
   "display_name": "Python 3",
   "language": "python",
   "name": "python3"
  },
  "language_info": {
   "codemirror_mode": {
    "name": "ipython",
    "version": 3
   },
   "file_extension": ".py",
   "mimetype": "text/x-python",
   "name": "python",
   "nbconvert_exporter": "python",
   "pygments_lexer": "ipython3",
   "version": "3.7.10"
  }
 },
 "nbformat": 4,
 "nbformat_minor": 5
}
