{
 "cells": [
  {
   "cell_type": "code",
   "execution_count": 1,
   "id": "e0124191",
   "metadata": {},
   "outputs": [],
   "source": [
    "import os\n",
    "from os import path\n",
    "import arcpy\n",
    "from arcpy import da"
   ]
  },
  {
   "cell_type": "code",
   "execution_count": 4,
   "id": "7081de3f",
   "metadata": {},
   "outputs": [],
   "source": [
    "filePath = os.getcwd()"
   ]
  },
  {
   "cell_type": "code",
   "execution_count": 5,
   "id": "85940e64",
   "metadata": {},
   "outputs": [
    {
     "name": "stdout",
     "output_type": "stream",
     "text": [
      "A geodatabase file created successfully!\n"
     ]
    }
   ],
   "source": [
    "# Create a new local geodatabase file if it's not existed\n",
    "\n",
    "# Set file path and name for geodatabase\n",
    "db_filePath = path.join(filePath, \"gdbs\")\n",
    "if not path.exists(db_filePath):\n",
    "    os.mkdir(db_filePath)\n",
    "out_name = \"mygdb.gdb\"\n",
    "geodb = r\"gdbs/mygdb.gdb\"\n",
    "if not path.exists(geodb):\n",
    "    try:\n",
    "        geodb = arcpy.CreateFileGDB_management(db_filePath, out_name)\n",
    "        print(\"A geodatabase file created successfully!\")\n",
    "    except Exception as genErr:\n",
    "        print(\"General Error: {}\".format(genErr))\n",
    "        raise Exception(genErr)\n",
    "else:\n",
    "    print(\"A File Geodatabase already existed.\")"
   ]
  },
  {
   "cell_type": "code",
   "execution_count": 12,
   "id": "1c239a0b",
   "metadata": {},
   "outputs": [
    {
     "data": {
      "text/html": [
       "<h2>Output</h2>C:\\Users\\dangn\\PycharmProjects\\railroadsTest\\gdbs\\mygdb.gdb<h2>Messages</h2>Start Time: Wednesday, May 19, 2021 1:57:50 PM<br/>Succeeded at Wednesday, May 19, 2021 1:57:51 PM (Elapsed Time: 0.20 seconds)<br/><style>.rendered_html td, .rendered_html th {text-align: left;}.rendered_html tbody {border: 1px solid black;}</style>"
      ],
      "text/plain": [
       "<Result 'C:\\\\Users\\\\dangn\\\\PycharmProjects\\\\railroadsTest\\\\gdbs\\\\mygdb.gdb'>"
      ]
     },
     "execution_count": 12,
     "metadata": {},
     "output_type": "execute_result"
    }
   ],
   "source": [
    "geodb"
   ]
  },
  {
   "cell_type": "code",
   "execution_count": 6,
   "id": "a841f5cb",
   "metadata": {},
   "outputs": [],
   "source": [
    "# Copy feature class from working gdb to local gdb\n",
    "\n",
    "inTable = r\"\\\\csnt102\\RR Test FGDB\\RailSafetyInventory.gdb\"\n",
    "arcpy.env.workspace = inTable\n",
    "outFC = path.join(str(geodb), \"Rail_Inventory_Data_Collection\")\n",
    "arcpy.Copy_management(\"Rail_Inventory_Data_Collection\", outFC)"
   ]
  },
  {
   "cell_type": "code",
   "execution_count": null,
   "id": "8c96969f",
   "metadata": {},
   "outputs": [],
   "source": []
  },
  {
   "cell_type": "code",
   "execution_count": null,
   "id": "392d3cc1",
   "metadata": {},
   "outputs": [],
   "source": []
  }
 ],
 "metadata": {
  "kernelspec": {
   "display_name": "Python 3",
   "language": "python",
   "name": "python3"
  },
  "language_info": {
   "codemirror_mode": {
    "name": "ipython",
    "version": 3
   },
   "file_extension": ".py",
   "mimetype": "text/x-python",
   "name": "python",
   "nbconvert_exporter": "python",
   "pygments_lexer": "ipython3",
   "version": "3.7.10"
  }
 },
 "nbformat": 4,
 "nbformat_minor": 5
}
