{
 "cells": [
  {
   "cell_type": "code",
   "execution_count": 1,
   "id": "724ece83",
   "metadata": {},
   "outputs": [],
   "source": [
    "import arcpy\n",
    "import os\n",
    "from os import path\n",
    "from arcpy import da"
   ]
  },
  {
   "cell_type": "code",
   "execution_count": 2,
   "id": "0526310e",
   "metadata": {},
   "outputs": [],
   "source": [
    "# Change this to change the root folder name\n",
    "attachs_folder_name = \"rr_folders\"\n",
    "if not path.isdir(attachs_folder_name):\n",
    "    os.mkdir(attachs_folder_name)"
   ]
  },
  {
   "cell_type": "code",
   "execution_count": 24,
   "id": "027d73e5",
   "metadata": {},
   "outputs": [],
   "source": [
    "################ Feature Class ################\n",
    "\n",
    "filePath = os.getcwd()\n",
    "ID = []\n",
    "folders = []\n",
    "\n",
    "inTable = r\"C:\\Users\\dangn\\PycharmProjects\\railroadsTest\\gdbs\\Railroads.gdb\\Rail_Inventory_Data_Collection\"\n",
    "with da.SearchCursor(inTable, ['globalid', 'CrossingInventoryNumber']) as cursor:\n",
    "    for item in cursor:\n",
    "        fileFolders = path.join(filePath, attachs_folder_name)\n",
    "        fileStore = path.join(fileFolders, str(item[1]))\n",
    "        # Append GUID and folders' name to a list\n",
    "        ID.append(item[0])\n",
    "        folders.append(fileStore)\n",
    "        if not path.isdir(fileStore):\n",
    "            os.mkdir(fileStore)\n"
   ]
  },
  {
   "cell_type": "code",
   "execution_count": 25,
   "id": "a31ef26c",
   "metadata": {},
   "outputs": [
    {
     "data": {
      "text/plain": [
       "['C:\\\\Users\\\\dangn\\\\PycharmProjects\\\\railroadsTest\\\\rr_folders\\\\306401Y',\n",
       " 'C:\\\\Users\\\\dangn\\\\PycharmProjects\\\\railroadsTest\\\\rr_folders\\\\726140K',\n",
       " 'C:\\\\Users\\\\dangn\\\\PycharmProjects\\\\railroadsTest\\\\rr_folders\\\\960790G',\n",
       " 'C:\\\\Users\\\\dangn\\\\PycharmProjects\\\\railroadsTest\\\\rr_folders\\\\306564H',\n",
       " 'C:\\\\Users\\\\dangn\\\\PycharmProjects\\\\railroadsTest\\\\rr_folders\\\\606565p',\n",
       " 'C:\\\\Users\\\\dangn\\\\PycharmProjects\\\\railroadsTest\\\\rr_folders\\\\306566w',\n",
       " 'C:\\\\Users\\\\dangn\\\\PycharmProjects\\\\railroadsTest\\\\rr_folders\\\\306567d',\n",
       " 'C:\\\\Users\\\\dangn\\\\PycharmProjects\\\\railroadsTest\\\\rr_folders\\\\615194m',\n",
       " 'C:\\\\Users\\\\dangn\\\\PycharmProjects\\\\railroadsTest\\\\rr_folders\\\\306572a',\n",
       " 'C:\\\\Users\\\\dangn\\\\PycharmProjects\\\\railroadsTest\\\\rr_folders\\\\306573g',\n",
       " 'C:\\\\Users\\\\dangn\\\\PycharmProjects\\\\railroadsTest\\\\rr_folders\\\\306570L',\n",
       " 'C:\\\\Users\\\\dangn\\\\PycharmProjects\\\\railroadsTest\\\\rr_folders\\\\306574n',\n",
       " 'C:\\\\Users\\\\dangn\\\\PycharmProjects\\\\railroadsTest\\\\rr_folders\\\\306575v',\n",
       " 'C:\\\\Users\\\\dangn\\\\PycharmProjects\\\\railroadsTest\\\\rr_folders\\\\306576C',\n",
       " 'C:\\\\Users\\\\dangn\\\\PycharmProjects\\\\railroadsTest\\\\rr_folders\\\\306580s',\n",
       " 'C:\\\\Users\\\\dangn\\\\PycharmProjects\\\\railroadsTest\\\\rr_folders\\\\351202R',\n",
       " 'C:\\\\Users\\\\dangn\\\\PycharmProjects\\\\railroadsTest\\\\rr_folders\\\\655904Y',\n",
       " 'C:\\\\Users\\\\dangn\\\\PycharmProjects\\\\railroadsTest\\\\rr_folders\\\\351219u',\n",
       " 'C:\\\\Users\\\\dangn\\\\PycharmProjects\\\\railroadsTest\\\\rr_folders\\\\831231C',\n",
       " 'C:\\\\Users\\\\dangn\\\\PycharmProjects\\\\railroadsTest\\\\rr_folders\\\\831292T',\n",
       " 'C:\\\\Users\\\\dangn\\\\PycharmProjects\\\\railroadsTest\\\\rr_folders\\\\831225Y',\n",
       " 'C:\\\\Users\\\\dangn\\\\PycharmProjects\\\\railroadsTest\\\\rr_folders\\\\831224S',\n",
       " 'C:\\\\Users\\\\dangn\\\\PycharmProjects\\\\railroadsTest\\\\rr_folders\\\\351203X',\n",
       " 'C:\\\\Users\\\\dangn\\\\PycharmProjects\\\\railroadsTest\\\\rr_folders\\\\635905F',\n",
       " 'C:\\\\Users\\\\dangn\\\\PycharmProjects\\\\railroadsTest\\\\rr_folders\\\\351109y',\n",
       " 'C:\\\\Users\\\\dangn\\\\PycharmProjects\\\\railroadsTest\\\\rr_folders\\\\351192M',\n",
       " 'C:\\\\Users\\\\dangn\\\\PycharmProjects\\\\railroadsTest\\\\rr_folders\\\\831225Y',\n",
       " 'C:\\\\Users\\\\dangn\\\\PycharmProjects\\\\railroadsTest\\\\rr_folders\\\\351194B',\n",
       " 'C:\\\\Users\\\\dangn\\\\PycharmProjects\\\\railroadsTest\\\\rr_folders\\\\948217J',\n",
       " 'C:\\\\Users\\\\dangn\\\\PycharmProjects\\\\railroadsTest\\\\rr_folders\\\\726869P',\n",
       " 'C:\\\\Users\\\\dangn\\\\PycharmProjects\\\\railroadsTest\\\\rr_folders\\\\831355V',\n",
       " 'C:\\\\Users\\\\dangn\\\\PycharmProjects\\\\railroadsTest\\\\rr_folders\\\\831356C',\n",
       " 'C:\\\\Users\\\\dangn\\\\PycharmProjects\\\\railroadsTest\\\\rr_folders\\\\831360S',\n",
       " 'C:\\\\Users\\\\dangn\\\\PycharmProjects\\\\railroadsTest\\\\rr_folders\\\\831361Y',\n",
       " 'C:\\\\Users\\\\dangn\\\\PycharmProjects\\\\railroadsTest\\\\rr_folders\\\\831366H',\n",
       " 'C:\\\\Users\\\\dangn\\\\PycharmProjects\\\\railroadsTest\\\\rr_folders\\\\831367P',\n",
       " 'C:\\\\Users\\\\dangn\\\\PycharmProjects\\\\railroadsTest\\\\rr_folders\\\\831368W',\n",
       " 'C:\\\\Users\\\\dangn\\\\PycharmProjects\\\\railroadsTest\\\\rr_folders\\\\831369D',\n",
       " 'C:\\\\Users\\\\dangn\\\\PycharmProjects\\\\railroadsTest\\\\rr_folders\\\\831373T',\n",
       " 'C:\\\\Users\\\\dangn\\\\PycharmProjects\\\\railroadsTest\\\\rr_folders\\\\831374A',\n",
       " 'C:\\\\Users\\\\dangn\\\\PycharmProjects\\\\railroadsTest\\\\rr_folders\\\\831347D']"
      ]
     },
     "execution_count": 25,
     "metadata": {},
     "output_type": "execute_result"
    }
   ],
   "source": [
    "folders"
   ]
  },
  {
   "cell_type": "code",
   "execution_count": 6,
   "id": "44dfbc40",
   "metadata": {},
   "outputs": [
    {
     "data": {
      "text/plain": [
       "'306401Y'"
      ]
     },
     "execution_count": 6,
     "metadata": {},
     "output_type": "execute_result"
    }
   ],
   "source": [
    "path.split(folders[0])[1]"
   ]
  },
  {
   "cell_type": "code",
   "execution_count": 11,
   "id": "4550fed0",
   "metadata": {},
   "outputs": [
    {
     "data": {
      "text/plain": [
       "True"
      ]
     },
     "execution_count": 11,
     "metadata": {},
     "output_type": "execute_result"
    }
   ],
   "source": [
    "path.isdir(r\"C:\\Users\\dangn\\PycharmProjects\\railroadsTest\\rr_attachs\")"
   ]
  },
  {
   "cell_type": "code",
   "execution_count": 15,
   "id": "5d5a038b",
   "metadata": {},
   "outputs": [],
   "source": [
    "tracking = []\n",
    "tracking = folders"
   ]
  },
  {
   "cell_type": "code",
   "execution_count": 33,
   "id": "f494f048",
   "metadata": {},
   "outputs": [
    {
     "data": {
      "text/plain": [
       "[0,\n",
       " 0,\n",
       " 0,\n",
       " 0,\n",
       " 0,\n",
       " 0,\n",
       " 0,\n",
       " 0,\n",
       " 0,\n",
       " 0,\n",
       " 0,\n",
       " 0,\n",
       " 0,\n",
       " 0,\n",
       " 0,\n",
       " 0,\n",
       " 0,\n",
       " 0,\n",
       " 0,\n",
       " 0,\n",
       " 0,\n",
       " 0,\n",
       " 0,\n",
       " 0,\n",
       " 0,\n",
       " 0,\n",
       " 0,\n",
       " 0,\n",
       " 0,\n",
       " 0,\n",
       " 0,\n",
       " 0,\n",
       " 0,\n",
       " 0,\n",
       " 0,\n",
       " 0,\n",
       " 0,\n",
       " 0,\n",
       " 0,\n",
       " 0,\n",
       " 0]"
      ]
     },
     "execution_count": 33,
     "metadata": {},
     "output_type": "execute_result"
    }
   ],
   "source": [
    "tracking = []\n",
    "tracking = [0 for _ in folders]\n",
    "tracking"
   ]
  },
  {
   "cell_type": "code",
   "execution_count": 35,
   "id": "16170f98",
   "metadata": {},
   "outputs": [
    {
     "data": {
      "text/plain": [
       "[0,\n",
       " 0,\n",
       " 0,\n",
       " 2,\n",
       " 0,\n",
       " 0,\n",
       " 0,\n",
       " 0,\n",
       " 0,\n",
       " 0,\n",
       " 0,\n",
       " 0,\n",
       " 0,\n",
       " 0,\n",
       " 0,\n",
       " 0,\n",
       " 0,\n",
       " 0,\n",
       " 0,\n",
       " 0,\n",
       " 0,\n",
       " 0,\n",
       " 0,\n",
       " 0,\n",
       " 0,\n",
       " 0,\n",
       " 0,\n",
       " 0,\n",
       " 0,\n",
       " 0,\n",
       " 0,\n",
       " 0,\n",
       " 0,\n",
       " 0,\n",
       " 0,\n",
       " 0,\n",
       " 0,\n",
       " 0,\n",
       " 0,\n",
       " 0,\n",
       " 0]"
      ]
     },
     "execution_count": 35,
     "metadata": {},
     "output_type": "execute_result"
    }
   ],
   "source": [
    "tracking[3] += 1\n",
    "tracking"
   ]
  },
  {
   "cell_type": "code",
   "execution_count": 39,
   "id": "107a38da",
   "metadata": {},
   "outputs": [
    {
     "name": "stdout",
     "output_type": "stream",
     "text": [
      "RR3_Photo-20210228-141816.jpg\n",
      "RR4_Photo-20210228-141826.jpg\n",
      "RR5_Photo-20210228-141830.jpg\n",
      "RR6_Photo-20210228-145402.jpg\n",
      "RR7_Photo-20210228-145412.jpg\n",
      "RR8_Photo-20210228-145417.jpg\n",
      "RR9_Photo-20210311-143900.jpg\n",
      "RR10_Photo-20210311-143929.jpg\n",
      "RR11_Photo-20210311-144620.jpg\n",
      "RR12_Photo-20210311-145538.jpg\n",
      "RR13_Photo-20210311-145628.jpg\n",
      "RR14_Photo-20210311-145716.jpg\n",
      "RR15_Photo-20210311-150135.jpg\n",
      "RR16_Photo-20210311-150201.jpg\n",
      "RR17_Photo-20210311-150233.jpg\n",
      "RR18_Photo-20210311-151017.jpg\n",
      "RR19_Photo-20210311-151041.jpg\n",
      "RR20_Photo-20210311-151109.jpg\n",
      "RR21_Photo-20210311-151450.jpg\n",
      "RR22_Photo-20210311-151513.jpg\n",
      "RR23_Photo-20210311-151521.jpg\n",
      "RR24_Photo-20210311-151548.jpg\n",
      "RR25_Photo-20210311-152107.jpg\n",
      "RR26_Photo-20210311-152126.jpg\n",
      "RR27_Photo-20210311-152210.jpg\n",
      "RR28_Photo-20210311-153227.jpg\n",
      "RR29_Photo-20210311-153254.jpg\n",
      "RR30_Photo-20210311-153332.jpg\n",
      "RR31_Photo-20210311-154041.jpg\n",
      "RR32_Photo-20210311-154106.jpg\n",
      "RR33_Photo-20210311-154154.jpg\n",
      "RR34_Photo-20210311-160118.jpg\n",
      "RR35_Photo-20210311-160139.jpg\n",
      "RR36_Photo-20210311-160221.jpg\n",
      "RR37_Photo-20210311-160647.jpg\n",
      "RR38_Photo-20210311-160721.jpg\n",
      "RR39_Photo-20210311-160759.jpg\n",
      "RR40_Photo-20210311-161922.jpg\n",
      "RR41_Photo-20210311-161943.jpg\n",
      "RR42_Photo-20210311-162014.jpg\n",
      "RR43_Photo-20210311-190021.jpg\n",
      "RR44_Photo-20210311-190047.jpg\n",
      "RR45_Photo-20210311-190120.jpg\n",
      "RR46_Photo-20210311-191239.jpg\n",
      "RR47_Photo-20210311-191312.jpg\n",
      "RR48_Photo-20210311-191351.jpg\n",
      "RR49_Photo-20210311-193214.jpg\n",
      "RR50_Photo-20210311-193245.jpg\n",
      "RR51_Photo-20210311-193321.jpg\n",
      "RR52_Photo-20210311-193348.jpg\n",
      "RR53_Photo-20210311-193427.jpg\n",
      "RR54_Photo-20210311-193501.jpg\n",
      "RR55_Photo-20210311-193943.jpg\n",
      "RR57_Photo-20210311-194041.jpg\n",
      "RR58_Photo-20210311-194110.jpg\n",
      "RR59_Photo-20210311-194439.jpg\n",
      "RR60_Photo-20210311-194452.jpg\n",
      "RR61_Photo-20210311-194611.jpg\n",
      "RR62_Photo-20210311-194942.jpg\n",
      "RR63_Photo-20210311-195001.jpg\n",
      "RR64_Photo-20210311-195033.jpg\n",
      "RR65_Photo-20210311-195106.jpg\n",
      "RR66_Photo-20210311-195126.jpg\n",
      "RR67_Photo-20210311-195154.jpg\n",
      "RR68_Photo-20210311-195627.jpg\n",
      "RR69_Photo-20210311-195647.jpg\n",
      "RR70_Photo-20210311-195714.jpg\n",
      "RR71_Photo-20210311-195802.jpg\n",
      "RR72_Photo-20210311-195819.jpg\n",
      "RR73_Photo-20210311-195905.jpg\n",
      "RR74_Photo-20210311-200436.jpg\n",
      "RR75_Photo-20210311-200503.jpg\n",
      "RR76_Photo-20210311-200532.jpg\n",
      "RR77_Photo-20210311-200920.jpg\n",
      "RR78_Photo-20210311-201004.jpg\n",
      "RR79_Photo-20210311-201055.jpg\n",
      "RR80_Photo-20210311-201315.jpg\n",
      "RR81_Photo-20210311-201344.jpg\n",
      "RR82_Photo-20210311-201435.jpg\n",
      "RR83_Photo-20210311-201742.jpg\n",
      "RR84_Photo-20210311-201842.jpg\n",
      "RR85_Photo-20210311-201932.jpg\n",
      "RR86_Photo-20210408-151920.jpg\n",
      "RR87_Photo-20210408-151947.jpg\n",
      "RR88_Photo-20210408-152042.jpg\n",
      "RR89_Photo-20210428-135719.jpg\n",
      "RR90_Photo-20210428-135747.jpg\n",
      "RR91_Photo-20210428-135829.jpg\n",
      "RR92_Photo-20210428-140911.jpg\n",
      "RR93_Photo-20210428-140928.jpg\n",
      "RR94_Photo-20210428-140959.jpg\n",
      "RR95_Photo-20210428-141731.jpg\n",
      "RR96_Photo-20210428-141746.jpg\n",
      "RR97_Photo-20210428-141817.jpg\n",
      "RR98_Photo-20210428-142755.jpg\n",
      "RR99_Photo-20210428-142823.jpg\n",
      "RR100_Photo-20210428-142909.jpg\n",
      "RR101_Photo-20210428-145714.jpg\n",
      "RR102_Photo-20210428-145732.jpg\n",
      "RR103_Photo-20210428-145814.jpg\n",
      "RR104_Photo-20210428-150358.jpg\n",
      "RR105_Photo-20210428-150418.jpg\n",
      "RR106_Photo-20210428-150456.jpg\n",
      "RR107_Photo-20210428-151105.jpg\n",
      "RR108_Photo-20210428-151119.jpg\n",
      "RR109_Photo-20210428-151202.jpg\n",
      "RR110_Photo-20210428-154218.jpg\n",
      "RR111_Photo-20210428-154236.jpg\n",
      "RR112_Photo-20210428-154303.jpg\n",
      "RR113_Photo-20210428-163209.jpg\n",
      "RR114_Photo-20210428-163232.jpg\n",
      "RR115_Photo-20210428-163300.jpg\n",
      "RR116_Photo-20210428-164847.jpg\n",
      "RR117_Photo-20210428-164908.jpg\n",
      "RR118_Photo-20210428-164949.jpg\n",
      "RR119_Photo-20210428-192125.jpg\n",
      "RR120_Photo-20210428-192214.jpg\n",
      "RR121_Photo-20210428-192339.jpg\n"
     ]
    }
   ],
   "source": [
    "################ ATTACH ################\n",
    "\n",
    "# Relicate the attachments\n",
    "\n",
    "# input and output paths\n",
    "filePath = os.getcwd()\n",
    "inTable = r\"C:\\Users\\dangn\\PycharmProjects\\railroadsTest\\gdbs\\Railroads.gdb\\Rail_Inventory_Data_Collection__ATTACH\"\n",
    "# import attachments\n",
    "with da.SearchCursor(inTable, ['DATA', 'ATT_NAME', 'ATTACHMENTID', 'rel_globalid']) as cursor:\n",
    "    for item in cursor:\n",
    "        attachment = item[0]\n",
    "        filenum = \"RR\" + str(item[2]) + \"_\"\n",
    "        filename = filenum + str(item[1])\n",
    "        print(filename)\n",
    "        if item[3] in ID:\n",
    "            index = ID.index(item[3])\n",
    "            folder = path.join(folders[index], filename)\n",
    "            open(folder, 'wb').write(attachment.tobytes())"
   ]
  },
  {
   "cell_type": "code",
   "execution_count": null,
   "id": "62268494",
   "metadata": {},
   "outputs": [],
   "source": []
  }
 ],
 "metadata": {
  "kernelspec": {
   "display_name": "Python 3",
   "language": "python",
   "name": "python3"
  },
  "language_info": {
   "codemirror_mode": {
    "name": "ipython",
    "version": 3
   },
   "file_extension": ".py",
   "mimetype": "text/x-python",
   "name": "python",
   "nbconvert_exporter": "python",
   "pygments_lexer": "ipython3",
   "version": "3.7.10"
  }
 },
 "nbformat": 4,
 "nbformat_minor": 5
}
