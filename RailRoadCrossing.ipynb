{
 "cells": [
  {
   "cell_type": "code",
   "execution_count": 304,
   "metadata": {},
   "outputs": [],
   "source": [
    "import arcpy\n",
    "from arcpy import da\n",
    "import os"
   ]
  },
  {
   "cell_type": "code",
   "execution_count": 305,
   "metadata": {},
   "outputs": [
    {
     "data": {
      "text/html": [
       "<h2>Output</h2>in_memory\\PlaceHolder<h2>Messages</h2>Start Time: Wednesday, May 19, 2021 2:42:18 PM<br/>Adding DATA to PlaceHolder...<br/>Succeeded at Wednesday, May 19, 2021 2:42:18 PM (Elapsed Time: 0.00 seconds)<br/><style>.rendered_html td, .rendered_html th {text-align: left;}.rendered_html tbody {border: 1px solid black;}</style>"
      ],
      "text/plain": [
       "<Result 'in_memory\\\\PlaceHolder'>"
      ]
     },
     "execution_count": 305,
     "metadata": {},
     "output_type": "execute_result"
    }
   ],
   "source": [
    "fd = r\"C:\\Users\\locked\\Documents\\RailInventory\\RR Test FGDB\\RailSafetyInventory.gdb\\Rail_Inventory_Data_Collection__ATTACH\"\n",
    "compTo = r\"C:\\Users\\locked\\Documents\\RailInventory\\RR Test FGDB\\RailSafetyInventory.gdb\\Rail_Inventory_Data_Collection\"\n",
    "folder_Path = r\"C:\\Users\\locked\\Documents\\RailInventory\"\n",
    "new_Folder = \"RailRoadCrossing_id\"\n",
    "\n",
    "arcpy.management.CreateFolder(folder_Path, new_Folder)\n",
    "\n",
    "fileLocation = folder_Path + \"\\\\\" + new_Folder\n",
    "#check to see if mTable exists and if it does delete it\n",
    "if arcpy.Exists(mTable):\n",
    "    arcpy.Delete_management(mTable)\n",
    "    \n",
    "mTable = arcpy.CreateTable_management(\"in_memory\", \"PlaceHolder\")\n",
    "arcpy.AddField_management(mTable, \"ID\", \"TEXT\")\n",
    "arcpy.AddField_management(mTable, \"DATA\", \"BLOB\")\n",
    "\n"
   ]
  },
  {
   "cell_type": "code",
   "execution_count": 306,
   "metadata": {},
   "outputs": [],
   "source": [
    "fcFields = [\"GLOBALID\"]\n",
    "fcDictionary = {r[0]:r[1:] for r in arcpy.da.SearchCursor(compTo, fcFields)}\n"
   ]
  },
  {
   "cell_type": "code",
   "execution_count": 307,
   "metadata": {},
   "outputs": [],
   "source": [
    "fdAttach = [\"REL_GLOBALID\", \"DATA\"]\n",
    "fdDictionary = {r[0]:r[1:] for r in arcpy.da.SearchCursor(fd, fdAttach)}\n"
   ]
  },
  {
   "cell_type": "code",
   "execution_count": 323,
   "metadata": {},
   "outputs": [
    {
     "name": "stdout",
     "output_type": "stream",
     "text": [
      "<da.InsertCursor object at 0x0000026CFA9F1330>\n",
      "<da.InsertCursor object at 0x0000026CFF3FA7B0>\n",
      "<da.InsertCursor object at 0x0000026CFA9F1330>\n",
      "<da.InsertCursor object at 0x0000026CFF3FA7B0>\n",
      "<da.InsertCursor object at 0x0000026CFA9F1330>\n",
      "<da.InsertCursor object at 0x0000026CFF3FA7B0>\n",
      "<da.InsertCursor object at 0x0000026CFA9F1330>\n",
      "<da.InsertCursor object at 0x0000026CFF3FA7B0>\n",
      "<da.InsertCursor object at 0x0000026CFA9F1330>\n",
      "<da.InsertCursor object at 0x0000026CFF3FA7B0>\n",
      "<da.InsertCursor object at 0x0000026CFA9F1330>\n",
      "<da.InsertCursor object at 0x0000026CFF3FA7B0>\n",
      "<da.InsertCursor object at 0x0000026CFA9F1330>\n",
      "<da.InsertCursor object at 0x0000026CFF3FA7B0>\n",
      "<da.InsertCursor object at 0x0000026CFA9F1330>\n",
      "<da.InsertCursor object at 0x0000026CFF3FA7B0>\n",
      "<da.InsertCursor object at 0x0000026CFA9F1330>\n",
      "<da.InsertCursor object at 0x0000026CFF3FA7B0>\n",
      "<da.InsertCursor object at 0x0000026CFA9F1330>\n",
      "<da.InsertCursor object at 0x0000026CFF3FA7B0>\n",
      "<da.InsertCursor object at 0x0000026CFA9F1330>\n",
      "<da.InsertCursor object at 0x0000026CFF3FA7B0>\n",
      "<da.InsertCursor object at 0x0000026CFA9F1330>\n",
      "<da.InsertCursor object at 0x0000026CFF3FA7B0>\n",
      "<da.InsertCursor object at 0x0000026CFA9F1330>\n",
      "<da.InsertCursor object at 0x0000026CFF3FA7B0>\n",
      "<da.InsertCursor object at 0x0000026CFA9F1330>\n",
      "<da.InsertCursor object at 0x0000026CFF3FA7B0>\n",
      "<da.InsertCursor object at 0x0000026CFA9F1330>\n",
      "<da.InsertCursor object at 0x0000026CFF3FA7B0>\n",
      "<da.InsertCursor object at 0x0000026CFA9F1330>\n",
      "<da.InsertCursor object at 0x0000026CFF3FA7B0>\n",
      "<da.InsertCursor object at 0x0000026CFA9F1330>\n",
      "<da.InsertCursor object at 0x0000026CFF3FA7B0>\n",
      "<da.InsertCursor object at 0x0000026CFA9F1330>\n",
      "<da.InsertCursor object at 0x0000026CFF3FA7B0>\n",
      "<da.InsertCursor object at 0x0000026CFA9F1330>\n",
      "<da.InsertCursor object at 0x0000026CFF3FA7B0>\n",
      "<da.InsertCursor object at 0x0000026CFA9F1330>\n"
     ]
    }
   ],
   "source": [
    "for i in fcDictionary:\n",
    "    if i in fdDictionary:\n",
    "        cTable = arcpy.da.InsertCursor(mTable, \"ID\")\n",
    "        cTable.insertRow([i])       \n",
    "        print(cTable)            "
   ]
  },
  {
   "cell_type": "code",
   "execution_count": 320,
   "metadata": {},
   "outputs": [
    {
     "ename": "RuntimeError",
     "evalue": "'in_table' is not a table or a featureclass",
     "output_type": "error",
     "traceback": [
      "\u001b[1;31m---------------------------------------------------------------------------\u001b[0m",
      "\u001b[1;31mRuntimeError\u001b[0m                              Traceback (most recent call last)",
      "\u001b[1;32m<ipython-input-320-e9c15b63d87b>\u001b[0m in \u001b[0;36m<module>\u001b[1;34m\u001b[0m\n\u001b[1;32m----> 1\u001b[1;33m \u001b[1;32mwith\u001b[0m \u001b[0marcpy\u001b[0m\u001b[1;33m.\u001b[0m\u001b[0mda\u001b[0m\u001b[1;33m.\u001b[0m\u001b[0mSearchCursor\u001b[0m\u001b[1;33m(\u001b[0m\u001b[0mcTable\u001b[0m\u001b[1;33m,\u001b[0m \u001b[1;33m[\u001b[0m\u001b[1;34m\"DATA\"\u001b[0m\u001b[1;33m,\u001b[0m \u001b[1;34m\"ID\"\u001b[0m\u001b[1;33m]\u001b[0m\u001b[1;33m,\u001b[0m \u001b[1;33m)\u001b[0m \u001b[1;32mas\u001b[0m \u001b[0mcursor\u001b[0m\u001b[1;33m:\u001b[0m\u001b[1;33m\u001b[0m\u001b[1;33m\u001b[0m\u001b[0m\n\u001b[0m\u001b[0;32m      2\u001b[0m           \u001b[1;32mfor\u001b[0m \u001b[0mitem\u001b[0m \u001b[1;32min\u001b[0m \u001b[0mcursor\u001b[0m\u001b[1;33m:\u001b[0m\u001b[1;33m\u001b[0m\u001b[1;33m\u001b[0m\u001b[0m\n\u001b[0;32m      3\u001b[0m               \u001b[0mattachment\u001b[0m \u001b[1;33m=\u001b[0m \u001b[0mitem\u001b[0m\u001b[1;33m[\u001b[0m\u001b[1;36m0\u001b[0m\u001b[1;33m]\u001b[0m\u001b[1;33m\u001b[0m\u001b[1;33m\u001b[0m\u001b[0m\n\u001b[0;32m      4\u001b[0m               \u001b[0mfilename\u001b[0m \u001b[1;33m=\u001b[0m \u001b[0mstr\u001b[0m\u001b[1;33m(\u001b[0m\u001b[0mitem\u001b[0m\u001b[1;33m[\u001b[0m\u001b[1;36m1\u001b[0m\u001b[1;33m]\u001b[0m\u001b[1;33m)\u001b[0m\u001b[1;33m\u001b[0m\u001b[1;33m\u001b[0m\u001b[0m\n\u001b[0;32m      5\u001b[0m               \u001b[0mopen\u001b[0m\u001b[1;33m(\u001b[0m\u001b[0mfileLocation\u001b[0m \u001b[1;33m+\u001b[0m \u001b[0mos\u001b[0m\u001b[1;33m.\u001b[0m\u001b[0msep\u001b[0m \u001b[1;33m+\u001b[0m \u001b[0mfilename\u001b[0m\u001b[1;33m,\u001b[0m \u001b[1;34m'wb'\u001b[0m\u001b[1;33m)\u001b[0m\u001b[1;33m.\u001b[0m\u001b[0mwrite\u001b[0m\u001b[1;33m(\u001b[0m\u001b[0mattachment\u001b[0m\u001b[1;33m.\u001b[0m\u001b[0mtobytes\u001b[0m\u001b[1;33m(\u001b[0m\u001b[1;33m)\u001b[0m\u001b[1;33m)\u001b[0m\u001b[1;33m\u001b[0m\u001b[1;33m\u001b[0m\u001b[0m\n",
      "\u001b[1;31mRuntimeError\u001b[0m: 'in_table' is not a table or a featureclass"
     ]
    }
   ],
   "source": [
    "  with arcpy.da.SearchCursor(cTable, [\"DATA\", \"ID\"], ) as cursor:\n",
    "            for item in cursor:\n",
    "                attachment = item[0]\n",
    "                filename = str(item[1])\n",
    "                open(fileLocation + os.sep + filename, 'wb').write(attachment.tobytes())\n",
    "                print (filename)\n",
    "               "
   ]
  },
  {
   "cell_type": "code",
   "execution_count": null,
   "metadata": {},
   "outputs": [],
   "source": []
  }
 ],
 "metadata": {
  "kernelspec": {
   "display_name": "Python 3",
   "language": "python",
   "name": "python3"
  },
  "language_info": {
   "codemirror_mode": {
    "name": "ipython",
    "version": 3
   },
   "file_extension": ".py",
   "mimetype": "text/x-python",
   "name": "python",
   "nbconvert_exporter": "python",
   "pygments_lexer": "ipython3",
   "version": "3.7.10"
  }
 },
 "nbformat": 4,
 "nbformat_minor": 4
}
