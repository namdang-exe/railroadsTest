{
 "cells": [
  {
   "cell_type": "code",
   "execution_count": 1,
   "id": "4f4f2eb4",
   "metadata": {},
   "outputs": [],
   "source": [
    "import arcpy\n",
    "import os\n",
    "from os import path\n",
    "from arcpy import da"
   ]
  },
  {
   "cell_type": "code",
   "execution_count": null,
   "id": "6ed10263",
   "metadata": {},
   "outputs": [],
   "source": [
    "# Change this to change the root folder name\n",
    "attachs_folder_name = \"rr_folders\"\n",
    "if not path.isdir(attachs_folder_name):\n",
    "    os.mkdir(attachs_folder_name)"
   ]
  },
  {
   "cell_type": "code",
   "execution_count": 2,
   "id": "98ec4c9e",
   "metadata": {},
   "outputs": [],
   "source": [
    "################ Feature Class ################\n",
    "\n",
    "filePath = os.getcwd()\n",
    "ID = []\n",
    "folders = []\n",
    "\n",
    "inTable = r\"C:\\Users\\dangn\\PycharmProjects\\railroadsTest\\gdbs\\Railroads.gdb\\Rail_Inventory_Data_Collection\"\n",
    "with da.SearchCursor(inTable, ['globalid', 'CrossingInventoryNumber']) as cursor:\n",
    "    for item in cursor:\n",
    "        fileFolders = path.join(filePath, \"rr_folders\")\n",
    "        fileStore = path.join(fileFolders, str(item[1]))\n",
    "        # Append GUID and folders' name to a list\n",
    "        ID.append(item[0])\n",
    "        folders.append(fileStore)\n",
    "        if not path.isdir(fileStore):\n",
    "            os.mkdir(fileStore)\n"
   ]
  },
  {
   "cell_type": "code",
   "execution_count": 3,
   "id": "214d8fb4",
   "metadata": {},
   "outputs": [],
   "source": [
    "################ ATTACH ################\n",
    "\n",
    "# Relicate the attachments\n",
    "\n",
    "# input and output paths\n",
    "filePath = os.getcwd()\n",
    "inTable = r\"C:\\Users\\dangn\\PycharmProjects\\railroadsTest\\gdbs\\Railroads.gdb\\Rail_Inventory_Data_Collection__ATTACH\"\n",
    "# import attachments\n",
    "with da.SearchCursor(inTable, ['DATA', 'ATT_NAME', 'ATTACHMENTID', 'rel_globalid']) as cursor:\n",
    "    for item in cursor:\n",
    "        attachment = item[0]\n",
    "        filenum = \"RR\" + str(item[2]) + \"_\"\n",
    "        filename = filenum + str(item[1])\n",
    "        if item[3] in ID:\n",
    "            index = ID.index(item[3])\n",
    "            folder = path.join(folders[index], filename)\n",
    "            open(folder, 'wb').write(attachment.tobytes())"
   ]
  },
  {
   "cell_type": "code",
   "execution_count": 23,
   "id": "70a6b5d5",
   "metadata": {},
   "outputs": [],
   "source": [
    "################ Feature Class ################\n",
    "\n",
    "# Loop through rows in the table and look for 0s\n",
    "# Input and output paths\n",
    "filePath = os.getcwd()\n",
    "inTable = r\"C:\\Users\\dangn\\PycharmProjects\\railroadsTest\\gdbs\\Railroads.gdb\\Rail_Inventory_Data_Collection\" #in feature class\n",
    "workspace = r\"C:\\Users\\dangn\\PycharmProjects\\railroadsTest\\gdbs\\Railroads.gdb\"\n",
    "# Attributes to look for in the feature class\n",
    "fields = ['processed_data', 'globalid', 'CrossingInventoryNumber']\n",
    "parent_folder = \"rr_folders\"\n",
    "if not path.isdir(parent_folder):\n",
    "    os.mkdir(parent_folder)\n",
    "# Python arrays\n",
    "ID = []\n",
    "folders = []\n",
    "\n",
    "# Process: Edit Session\n",
    "edit = arcpy.da.Editor(workspace)\n",
    "edit.startEditing(False, True)\n",
    "edit.startOperation()\n",
    "\n",
    "# Process: Select and Update Data\n",
    "# look for 0s in the processed_table\n",
    "with da.UpdateCursor(inTable, fields) as cursor:\n",
    "    for row in cursor:\n",
    "        if not row[0]:\n",
    "            crossing_folders = path.join(filePath, parent_folder)\n",
    "            store_file = path.join(crossing_folders, str(row[2]))\n",
    "            # Append GUID and folders' name to a list\n",
    "            ID.append(row[1])\n",
    "            folders.append(store_file)\n",
    "            if not path.isdir(store_file):\n",
    "                os.mkdir(store_file)\n",
    "            row[0] = 1\n",
    "        cursor.updateRow(row)\n",
    "        \n",
    "del cursor\n",
    "edit.stopOperation()\n",
    "edit.stopEditing(True)"
   ]
  },
  {
   "cell_type": "code",
   "execution_count": 21,
   "id": "0715b6e3",
   "metadata": {},
   "outputs": [
    {
     "data": {
      "text/plain": [
       "['{37F0444E-8439-448C-9E54-238A3155116C}',\n",
       " '{218559CF-F3FB-4F8C-BF45-C74D422156EB}',\n",
       " '{90C6A0C2-5B2C-466B-88AF-E1CE07D903BC}',\n",
       " '{2C306969-B16C-42BE-8031-ABC7ECB228BB}',\n",
       " '{B6BE1328-D083-4257-B0B4-CA9313B662E4}',\n",
       " '{AE6B83E7-D4D2-49A9-9916-F150D47B7AA1}',\n",
       " '{028E466D-5096-45BD-B832-FCBA76C15328}',\n",
       " '{1AE3AE8F-A050-4797-A2B3-99C7409E4FE3}',\n",
       " '{11E92483-CFC6-4BF4-A8BC-B6169F3A62E6}',\n",
       " '{20F09FA6-B908-4617-9E67-280CC0364B27}',\n",
       " '{7C41E114-5DFD-4CE5-9B99-8DCE90AB7E2E}',\n",
       " '{DB20695C-CEBF-4385-B33E-23EF0D493012}']"
      ]
     },
     "execution_count": 21,
     "metadata": {},
     "output_type": "execute_result"
    }
   ],
   "source": [
    "ID"
   ]
  },
  {
   "cell_type": "code",
   "execution_count": 22,
   "id": "8d5e08bf",
   "metadata": {},
   "outputs": [
    {
     "data": {
      "text/plain": [
       "['C:\\\\Users\\\\dangn\\\\PycharmProjects\\\\railroadsTest\\\\rr_folders\\\\726869P',\n",
       " 'C:\\\\Users\\\\dangn\\\\PycharmProjects\\\\railroadsTest\\\\rr_folders\\\\831355V',\n",
       " 'C:\\\\Users\\\\dangn\\\\PycharmProjects\\\\railroadsTest\\\\rr_folders\\\\831356C',\n",
       " 'C:\\\\Users\\\\dangn\\\\PycharmProjects\\\\railroadsTest\\\\rr_folders\\\\831360S',\n",
       " 'C:\\\\Users\\\\dangn\\\\PycharmProjects\\\\railroadsTest\\\\rr_folders\\\\831361Y',\n",
       " 'C:\\\\Users\\\\dangn\\\\PycharmProjects\\\\railroadsTest\\\\rr_folders\\\\831366H',\n",
       " 'C:\\\\Users\\\\dangn\\\\PycharmProjects\\\\railroadsTest\\\\rr_folders\\\\831367P',\n",
       " 'C:\\\\Users\\\\dangn\\\\PycharmProjects\\\\railroadsTest\\\\rr_folders\\\\831368W',\n",
       " 'C:\\\\Users\\\\dangn\\\\PycharmProjects\\\\railroadsTest\\\\rr_folders\\\\831369D',\n",
       " 'C:\\\\Users\\\\dangn\\\\PycharmProjects\\\\railroadsTest\\\\rr_folders\\\\831373T',\n",
       " 'C:\\\\Users\\\\dangn\\\\PycharmProjects\\\\railroadsTest\\\\rr_folders\\\\831374A',\n",
       " 'C:\\\\Users\\\\dangn\\\\PycharmProjects\\\\railroadsTest\\\\rr_folders\\\\831347D']"
      ]
     },
     "execution_count": 22,
     "metadata": {},
     "output_type": "execute_result"
    }
   ],
   "source": [
    "folders"
   ]
  },
  {
   "cell_type": "code",
   "execution_count": 24,
   "id": "ecd460ae",
   "metadata": {},
   "outputs": [],
   "source": [
    "################ ATTACH ################\n",
    "\n",
    "# Copy the attachments\n",
    "\n",
    "# input and output paths\n",
    "filePath = os.getcwd()\n",
    "inTable = r\"C:\\Users\\dangn\\PycharmProjects\\railroadsTest\\gdbs\\Railroads.gdb\\Rail_Inventory_Data_Collection__ATTACH\"\n",
    "# Process: copy attachments\n",
    "with da.SearchCursor(inTable, ['DATA', 'ATT_NAME', 'ATTACHMENTID', 'rel_globalid']) as cursor:\n",
    "    for row in cursor:\n",
    "        attachment = row[0]\n",
    "        filenum = \"RR\" + str(row[2]) + \"_\"\n",
    "        filename = filenum + str(row[1])\n",
    "        if row[3] in ID:\n",
    "            index = ID.index(row[3])\n",
    "            folder = path.join(folders[index], filename)\n",
    "            open(folder, 'wb').write(attachment.tobytes())"
   ]
  },
  {
   "cell_type": "code",
   "execution_count": null,
   "id": "d12bfb04",
   "metadata": {},
   "outputs": [],
   "source": []
  }
 ],
 "metadata": {
  "kernelspec": {
   "display_name": "Python 3",
   "language": "python",
   "name": "python3"
  },
  "language_info": {
   "codemirror_mode": {
    "name": "ipython",
    "version": 3
   },
   "file_extension": ".py",
   "mimetype": "text/x-python",
   "name": "python",
   "nbconvert_exporter": "python",
   "pygments_lexer": "ipython3",
   "version": "3.7.10"
  }
 },
 "nbformat": 4,
 "nbformat_minor": 5
}
