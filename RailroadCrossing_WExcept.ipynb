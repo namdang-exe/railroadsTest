{
 "cells": [
  {
   "cell_type": "code",
   "execution_count": 26,
   "id": "23030647",
   "metadata": {},
   "outputs": [],
   "source": [
    "import arcpy\n",
    "import os\n",
    "from os import path\n",
    "from arcpy import da\n",
    "import datetime"
   ]
  },
  {
   "cell_type": "code",
   "execution_count": 25,
   "id": "ec7a2774",
   "metadata": {},
   "outputs": [
    {
     "name": "stdout",
     "output_type": "stream",
     "text": [
      "Railroads.gdb\n",
      "C:\\Users\\dangn\\PycharmProjects\\railroadsTest\\gdbs\n",
      "[]\n"
     ]
    }
   ],
   "source": [
    "# for dirpath, dirnames, filenames in arcpy.da.Walk(filePath, datatype=\"Geo\"):\n",
    "#     for dirname in dirnames:\n",
    "#         if dirname.endswith(\".gdb\"):\n",
    "#             print(dirname)\n",
    "#             print(dirpath)"
   ]
  },
  {
   "cell_type": "code",
   "execution_count": 35,
   "id": "6defd27d",
   "metadata": {},
   "outputs": [
    {
     "name": "stdout",
     "output_type": "stream",
     "text": [
      "General error: 'where_clause' is not a string.\n"
     ]
    }
   ],
   "source": [
    "################ Feature Class ################\n",
    "# Loop through rows in the processed_data col and look for 0s\n",
    "\n",
    "# Input and output paths\n",
    "working_dir = os.getcwd()\n",
    "geodb = r\"gdbs\\Railroads.gdb\"\n",
    "fc_name = \"Rail_Inventory_Data_Collection\"\n",
    "inTable = path.join(working_dir, geodb, fc_name)\n",
    "workspace = path.join(working_dir, geodb)\n",
    "# inTable = r\"C:\\Users\\dangn\\PycharmProjects\\railroadsTest\\gdbs\\Railroads.gdb\\Rail_Inventory_Data_Collection\" \n",
    "# workspace = r\"C:\\Users\\dangn\\PycharmProjects\\railroadsTest\\gdbs\\Railroads.gdb\"\n",
    "\n",
    "# Attributes to look for in the feature class\n",
    "fields = ['processed_data', 'globalid', 'CrossingInventoryNumber']\n",
    "# Python arrays\n",
    "ID = []\n",
    "folders = []\n",
    "\n",
    "# Process: Create a parent folder, folder name = current date\n",
    "now = datetime.datetime.now() # current time\n",
    "parent_folder = f\"{now.month}-{now.day}-{now.year}\"\n",
    "if not path.isdir(parent_folder):\n",
    "    os.mkdir(parent_folder)\n",
    "    \n",
    "# Process: Edit Session\n",
    "try:\n",
    "    edit = arcpy.da.Editor(workspace)\n",
    "    edit.startEditing(False, True)\n",
    "    edit.startOperation()\n",
    "    \n",
    "except arcpy.ExecuteError:\n",
    "    print(arcpy.GetMessages(2))\n",
    "except Exception as err:\n",
    "    print(f\"General error: {err}.\")\n",
    "except:\n",
    "    print(\"Unexpected error. Please check the input again.\")\n",
    "\n",
    "# Process: Select and Update Data\n",
    "# look for 0s in the processed_table\n",
    "try:\n",
    "    with arcpy.da.UpdateCursor(inTable, fields) as cursor:\n",
    "        for row in cursor:\n",
    "            if not row[0]:\n",
    "                crossing_folders = path.join(working_dir, parent_folder)\n",
    "                store_file = path.join(crossing_folders, str(row[2]))\n",
    "                # Append GUID and Crossing ID to a list\n",
    "                ID.append(row[1])\n",
    "                folders.append(store_file)\n",
    "                if not path.isdir(store_file):\n",
    "                    os.mkdir(store_file)\n",
    "                row[0] = 1\n",
    "            cursor.updateRow(row)\n",
    "    del cursor\n",
    "    \n",
    "except RuntimeError:\n",
    "    print(f\"{inTable} is an invalid directory.\")\n",
    "except arcpy.ExecuteError:\n",
    "    print(arcpy.GetMessages(2))\n",
    "except Exception as err:\n",
    "    print(f\"General error: {err}.\")\n",
    "except:\n",
    "    print(\"Unexpected error. Please check the input again.\")\n",
    "    \n",
    "edit.stopOperation()\n",
    "edit.stopEditing(True)"
   ]
  },
  {
   "cell_type": "code",
   "execution_count": 3,
   "id": "92a05f14",
   "metadata": {},
   "outputs": [],
   "source": [
    "################ ATTACH ################\n",
    "# Copy the attachments\n",
    "\n",
    "# input and output paths\n",
    "working_dir = os.getcwd()\n",
    "geodb = r\"gdbs\\Railroads.gdb\"\n",
    "fc_name = \"Rail_Inventory_Data_Collection__ATTACH\"\n",
    "inTable = path.join(working_dir, geodb, fc_name)\n",
    "# inTable = r\"C:\\Users\\dangn\\PycharmProjects\\railroadsTest\\gdbs\\Railroads.gdb\\Rail_Inventory_Data_Collection__ATTACH\"\n",
    "fields = ['DATA', 'ATT_NAME', 'ATTACHMENTID', 'rel_globalid']\n",
    "\n",
    "# Process: copy attachments\n",
    "try:\n",
    "    with arcpy.da.SearchCursor(inTable, fields) as cursor:\n",
    "        for row in cursor:\n",
    "            attachment = row[0]\n",
    "            filenum = \"RR\" + str(row[2]) + \"_\"\n",
    "            filename = filenum + str(row[1])\n",
    "            if row[3] in ID:\n",
    "                index = ID.index(row[3])\n",
    "                folder = path.join(folders[index], filename)\n",
    "                open(folder, 'wb').write(attachment.tobytes())\n",
    "            \n",
    "except RuntimeError:\n",
    "    print(f\"{inTable} is an invalid directory.\")\n",
    "except arcpy.ExecuteError:\n",
    "    print(arcpy.GetMessages(2))\n",
    "except Exception as err:\n",
    "    print(f\"General error: {err}.\")\n",
    "except:\n",
    "    print(\"Unexpected error. Please check the input again.\")"
   ]
  }
 ],
 "metadata": {
  "kernelspec": {
   "display_name": "Python 3",
   "language": "python",
   "name": "python3"
  },
  "language_info": {
   "codemirror_mode": {
    "name": "ipython",
    "version": 3
   },
   "file_extension": ".py",
   "mimetype": "text/x-python",
   "name": "python",
   "nbconvert_exporter": "python",
   "pygments_lexer": "ipython3",
   "version": "3.7.10"
  }
 },
 "nbformat": 4,
 "nbformat_minor": 5
}
